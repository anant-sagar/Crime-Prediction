{
 "cells": [
  {
   "cell_type": "code",
   "execution_count": 2,
   "metadata": {},
   "outputs": [
    {
     "name": "stdout",
     "output_type": "stream",
     "text": [
      "400\n",
      "percentage: 80.0\n",
      "400\n",
      "percentage: 80.0\n",
      "400\n",
      "percentage: 80.0\n"
     ]
    }
   ],
   "source": [
    "data={1:[80,80,80,80,80],2:[80,80,80,80,80],3:[80,80,80,80,80],4:[80,80,80,80,80]}\r\n",
    "for i in range(1,len(data)):\r\n",
    "    a=sum(data[i])\r\n",
    "    print(a)\r\n",
    "    per=(a/500)*100\r\n",
    "    print(\"percentage:\",per)"
   ]
  },
  {
   "cell_type": "code",
   "execution_count": 1,
   "metadata": {},
   "outputs": [
    {
     "name": "stdout",
     "output_type": "stream",
     "text": [
      "[1, 2, 3] \n",
      "\n",
      "[4, 5, 6] \n",
      "\n",
      "[7, 8, 9] \n",
      "\n"
     ]
    }
   ],
   "source": [
    "#2d list/array/list of list\r\n",
    "#static initialization + printing like matrix\r\n",
    "l1=[[1,2,3],[4,5,6],[7,8,9]]\r\n",
    "for i in range(len(l1)):\r\n",
    "    print(l1[i],'\\n')"
   ]
  },
  {
   "cell_type": "code",
   "execution_count": 2,
   "metadata": {},
   "outputs": [
    {
     "name": "stdout",
     "output_type": "stream",
     "text": [
      "[6, 16, 7]\n",
      "[6, 6, 9]\n",
      "[11, 4, 13]\n"
     ]
    }
   ],
   "source": [
    "l1 = [[1,8,3],[4 ,1,6],[7 ,2,9]]\r\n",
    "l2 = [[5,8,4],[2,5,3],[4,2,4]]\r\n",
    "\r\n",
    "#list comprehension method \r\n",
    "result = [[l1[i][j] + l2[i][j]  for j in range(len(l1[0]))] for i in range(len(l1))]\r\n",
    "  \r\n",
    "for val in result:\r\n",
    "    print(val)"
   ]
  },
  {
   "cell_type": "code",
   "execution_count": 2,
   "metadata": {},
   "outputs": [
    {
     "name": "stdout",
     "output_type": "stream",
     "text": [
      "[['1', '2', '3'], ['4', '5', '6']]\n",
      "[[1, 2, 3], [4, 5, 6]]\n"
     ]
    }
   ],
   "source": [
    "lis=['123','456']\r\n",
    "test=list(map(list,lis)) #using map function\r\n",
    "print(test)\r\n",
    "\r\n",
    "for i in range(len(test)):\r\n",
    "    for j in range(len(test[i])):\r\n",
    "        test[i][j]=int(test[i][j])\r\n",
    "print(test)"
   ]
  },
  {
   "cell_type": "code",
   "execution_count": null,
   "metadata": {},
   "outputs": [],
   "source": []
  }
 ],
 "metadata": {
  "interpreter": {
   "hash": "004de6046f1b3d314f33fdb43a2dc798b2646e5600efd8df5066c8b63a00ff6d"
  },
  "kernelspec": {
   "display_name": "Python 3.8.0 64-bit",
   "name": "python3"
  },
  "language_info": {
   "codemirror_mode": {
    "name": "ipython",
    "version": 3
   },
   "file_extension": ".py",
   "mimetype": "text/x-python",
   "name": "python",
   "nbconvert_exporter": "python",
   "pygments_lexer": "ipython3",
   "version": "3.8.0"
  },
  "orig_nbformat": 4
 },
 "nbformat": 4,
 "nbformat_minor": 2
}