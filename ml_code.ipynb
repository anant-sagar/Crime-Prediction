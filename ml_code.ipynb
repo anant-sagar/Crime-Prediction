{
 "metadata": {
  "language_info": {
   "codemirror_mode": {
    "name": "ipython",
    "version": 3
   },
   "file_extension": ".py",
   "mimetype": "text/x-python",
   "name": "python",
   "nbconvert_exporter": "python",
   "pygments_lexer": "ipython3",
   "version": "3.8.8"
  },
  "orig_nbformat": 4,
  "kernelspec": {
   "name": "python3",
   "display_name": "Python 3.8.8 64-bit"
  },
  "interpreter": {
   "hash": "1baa965d5efe3ac65b79dfc60c0d706280b1da80fedb7760faf2759126c4f253"
  }
 },
 "nbformat": 4,
 "nbformat_minor": 2,
 "cells": [
  {
   "cell_type": "code",
   "execution_count": 84,
   "metadata": {},
   "outputs": [],
   "source": [
    "import pandas as pd\n",
    "import numpy as np\n",
    "import seaborn as sns\n",
    "import plotly.express as px\n",
    "from sklearn.model_selection import train_test_split\n",
    "from sklearn.metrics import confusion_matrix, classification_report\n",
    "from sklearn.metrics import accuracy_score\n",
    "from xgboost import XGBClassifier\n",
    "import xgboost as xgb\n",
    "from sklearn.metrics import mean_squared_error"
   ]
  },
  {
   "cell_type": "code",
   "execution_count": 85,
   "metadata": {},
   "outputs": [],
   "source": [
    "df=pd.read_csv('datasets/communities-crime-clean.csv')\n",
    "df['highCrime'] = np.where(df['ViolentCrimesPerPop']>0.1, 1, 0)"
   ]
  },
  {
   "cell_type": "code",
   "execution_count": 86,
   "metadata": {},
   "outputs": [
    {
     "output_type": "execute_result",
     "data": {
      "text/plain": [
       "   state      communityname  fold  population  householdsize  racepctblack  \\\n",
       "0      1      Alabastercity     7        0.01           0.61          0.21   \n",
       "1      1  AlexanderCitycity    10        0.01           0.41          0.55   \n",
       "2      1       Annistoncity     3        0.03           0.34          0.86   \n",
       "3      1         Athenscity     8        0.01           0.38          0.35   \n",
       "4      1         Auburncity     1        0.04           0.37          0.32   \n",
       "\n",
       "   racePctWhite  racePctAsian  racePctHisp  agePct12t21  ...  \\\n",
       "0          0.83          0.02         0.01         0.41  ...   \n",
       "1          0.57          0.01         0.00         0.47  ...   \n",
       "2          0.30          0.04         0.01         0.41  ...   \n",
       "3          0.71          0.04         0.01         0.39  ...   \n",
       "4          0.70          0.21         0.02         1.00  ...   \n",
       "\n",
       "   PctBornSameState  PctSameHouse85  PctSameCity85  PctSameState85  LandArea  \\\n",
       "0              0.70            0.40           0.34            0.57      0.05   \n",
       "1              0.93            0.66           0.82            0.84      0.11   \n",
       "2              0.77            0.59           0.70            0.64      0.06   \n",
       "3              0.78            0.56           0.67            0.71      0.09   \n",
       "4              0.49            0.12           0.00            0.15      0.09   \n",
       "\n",
       "   PopDens  PctUsePubTrans  LemasPctOfficDrugUn  ViolentCrimesPerPop  \\\n",
       "0     0.06            0.01                  0.0                 0.06   \n",
       "1     0.03            0.01                  0.0                 0.14   \n",
       "2     0.11            0.04                  0.0                 1.00   \n",
       "3     0.05            0.00                  0.0                 0.23   \n",
       "4     0.09            0.01                  0.0                 0.15   \n",
       "\n",
       "   highCrime  \n",
       "0          0  \n",
       "1          1  \n",
       "2          1  \n",
       "3          1  \n",
       "4          1  \n",
       "\n",
       "[5 rows x 105 columns]"
      ],
      "text/html": "<div>\n<style scoped>\n    .dataframe tbody tr th:only-of-type {\n        vertical-align: middle;\n    }\n\n    .dataframe tbody tr th {\n        vertical-align: top;\n    }\n\n    .dataframe thead th {\n        text-align: right;\n    }\n</style>\n<table border=\"1\" class=\"dataframe\">\n  <thead>\n    <tr style=\"text-align: right;\">\n      <th></th>\n      <th>state</th>\n      <th>communityname</th>\n      <th>fold</th>\n      <th>population</th>\n      <th>householdsize</th>\n      <th>racepctblack</th>\n      <th>racePctWhite</th>\n      <th>racePctAsian</th>\n      <th>racePctHisp</th>\n      <th>agePct12t21</th>\n      <th>...</th>\n      <th>PctBornSameState</th>\n      <th>PctSameHouse85</th>\n      <th>PctSameCity85</th>\n      <th>PctSameState85</th>\n      <th>LandArea</th>\n      <th>PopDens</th>\n      <th>PctUsePubTrans</th>\n      <th>LemasPctOfficDrugUn</th>\n      <th>ViolentCrimesPerPop</th>\n      <th>highCrime</th>\n    </tr>\n  </thead>\n  <tbody>\n    <tr>\n      <th>0</th>\n      <td>1</td>\n      <td>Alabastercity</td>\n      <td>7</td>\n      <td>0.01</td>\n      <td>0.61</td>\n      <td>0.21</td>\n      <td>0.83</td>\n      <td>0.02</td>\n      <td>0.01</td>\n      <td>0.41</td>\n      <td>...</td>\n      <td>0.70</td>\n      <td>0.40</td>\n      <td>0.34</td>\n      <td>0.57</td>\n      <td>0.05</td>\n      <td>0.06</td>\n      <td>0.01</td>\n      <td>0.0</td>\n      <td>0.06</td>\n      <td>0</td>\n    </tr>\n    <tr>\n      <th>1</th>\n      <td>1</td>\n      <td>AlexanderCitycity</td>\n      <td>10</td>\n      <td>0.01</td>\n      <td>0.41</td>\n      <td>0.55</td>\n      <td>0.57</td>\n      <td>0.01</td>\n      <td>0.00</td>\n      <td>0.47</td>\n      <td>...</td>\n      <td>0.93</td>\n      <td>0.66</td>\n      <td>0.82</td>\n      <td>0.84</td>\n      <td>0.11</td>\n      <td>0.03</td>\n      <td>0.01</td>\n      <td>0.0</td>\n      <td>0.14</td>\n      <td>1</td>\n    </tr>\n    <tr>\n      <th>2</th>\n      <td>1</td>\n      <td>Annistoncity</td>\n      <td>3</td>\n      <td>0.03</td>\n      <td>0.34</td>\n      <td>0.86</td>\n      <td>0.30</td>\n      <td>0.04</td>\n      <td>0.01</td>\n      <td>0.41</td>\n      <td>...</td>\n      <td>0.77</td>\n      <td>0.59</td>\n      <td>0.70</td>\n      <td>0.64</td>\n      <td>0.06</td>\n      <td>0.11</td>\n      <td>0.04</td>\n      <td>0.0</td>\n      <td>1.00</td>\n      <td>1</td>\n    </tr>\n    <tr>\n      <th>3</th>\n      <td>1</td>\n      <td>Athenscity</td>\n      <td>8</td>\n      <td>0.01</td>\n      <td>0.38</td>\n      <td>0.35</td>\n      <td>0.71</td>\n      <td>0.04</td>\n      <td>0.01</td>\n      <td>0.39</td>\n      <td>...</td>\n      <td>0.78</td>\n      <td>0.56</td>\n      <td>0.67</td>\n      <td>0.71</td>\n      <td>0.09</td>\n      <td>0.05</td>\n      <td>0.00</td>\n      <td>0.0</td>\n      <td>0.23</td>\n      <td>1</td>\n    </tr>\n    <tr>\n      <th>4</th>\n      <td>1</td>\n      <td>Auburncity</td>\n      <td>1</td>\n      <td>0.04</td>\n      <td>0.37</td>\n      <td>0.32</td>\n      <td>0.70</td>\n      <td>0.21</td>\n      <td>0.02</td>\n      <td>1.00</td>\n      <td>...</td>\n      <td>0.49</td>\n      <td>0.12</td>\n      <td>0.00</td>\n      <td>0.15</td>\n      <td>0.09</td>\n      <td>0.09</td>\n      <td>0.01</td>\n      <td>0.0</td>\n      <td>0.15</td>\n      <td>1</td>\n    </tr>\n  </tbody>\n</table>\n<p>5 rows × 105 columns</p>\n</div>"
     },
     "metadata": {},
     "execution_count": 86
    }
   ],
   "source": [
    "df.head()"
   ]
  },
  {
   "cell_type": "code",
   "execution_count": 87,
   "metadata": {},
   "outputs": [],
   "source": [
    "cols = ['communityname','state','ViolentCrimesPerPop','fold']\n",
    "df.drop(cols,axis=1,inplace=True)"
   ]
  },
  {
   "cell_type": "code",
   "execution_count": 88,
   "metadata": {},
   "outputs": [
    {
     "output_type": "execute_result",
     "data": {
      "text/plain": [
       "<AxesSubplot:xlabel='highCrime', ylabel='count'>"
      ]
     },
     "metadata": {},
     "execution_count": 88
    },
    {
     "output_type": "display_data",
     "data": {
      "text/plain": "<Figure size 432x288 with 1 Axes>",
      "image/svg+xml": "<?xml version=\"1.0\" encoding=\"utf-8\" standalone=\"no\"?>\r\n<!DOCTYPE svg PUBLIC \"-//W3C//DTD SVG 1.1//EN\"\r\n  \"http://www.w3.org/Graphics/SVG/1.1/DTD/svg11.dtd\">\r\n<svg height=\"262.19625pt\" version=\"1.1\" viewBox=\"0 0 395.328125 262.19625\" width=\"395.328125pt\" xmlns=\"http://www.w3.org/2000/svg\" xmlns:xlink=\"http://www.w3.org/1999/xlink\">\r\n <metadata>\r\n  <rdf:RDF xmlns:cc=\"http://creativecommons.org/ns#\" xmlns:dc=\"http://purl.org/dc/elements/1.1/\" xmlns:rdf=\"http://www.w3.org/1999/02/22-rdf-syntax-ns#\">\r\n   <cc:Work>\r\n    <dc:type rdf:resource=\"http://purl.org/dc/dcmitype/StillImage\"/>\r\n    <dc:date>2021-06-14T23:02:05.002089</dc:date>\r\n    <dc:format>image/svg+xml</dc:format>\r\n    <dc:creator>\r\n     <cc:Agent>\r\n      <dc:title>Matplotlib v3.4.1, https://matplotlib.org/</dc:title>\r\n     </cc:Agent>\r\n    </dc:creator>\r\n   </cc:Work>\r\n  </rdf:RDF>\r\n </metadata>\r\n <defs>\r\n  <style type=\"text/css\">*{stroke-linecap:butt;stroke-linejoin:round;}</style>\r\n </defs>\r\n <g id=\"figure_1\">\r\n  <g id=\"patch_1\">\r\n   <path d=\"M 0 262.19625 \r\nL 395.328125 262.19625 \r\nL 395.328125 0 \r\nL 0 0 \r\nz\r\n\" style=\"fill:none;\"/>\r\n  </g>\r\n  <g id=\"axes_1\">\r\n   <g id=\"patch_2\">\r\n    <path d=\"M 53.328125 224.64 \r\nL 388.128125 224.64 \r\nL 388.128125 7.2 \r\nL 53.328125 7.2 \r\nz\r\n\" style=\"fill:#ffffff;\"/>\r\n   </g>\r\n   <g id=\"patch_3\">\r\n    <path clip-path=\"url(#p2d4e617b3a)\" d=\"M 70.068125 224.64 \r\nL 203.988125 224.64 \r\nL 203.988125 101.548251 \r\nL 70.068125 101.548251 \r\nz\r\n\" style=\"fill:#3274a1;\"/>\r\n   </g>\r\n   <g id=\"patch_4\">\r\n    <path clip-path=\"url(#p2d4e617b3a)\" d=\"M 237.468125 224.64 \r\nL 371.388125 224.64 \r\nL 371.388125 17.554286 \r\nL 237.468125 17.554286 \r\nz\r\n\" style=\"fill:#e1812c;\"/>\r\n   </g>\r\n   <g id=\"matplotlib.axis_1\">\r\n    <g id=\"xtick_1\">\r\n     <g id=\"line2d_1\">\r\n      <defs>\r\n       <path d=\"M 0 0 \r\nL 0 3.5 \r\n\" id=\"ma63137cb5b\" style=\"stroke:#000000;stroke-width:0.8;\"/>\r\n      </defs>\r\n      <g>\r\n       <use style=\"stroke:#000000;stroke-width:0.8;\" x=\"137.028125\" xlink:href=\"#ma63137cb5b\" y=\"224.64\"/>\r\n      </g>\r\n     </g>\r\n     <g id=\"text_1\">\r\n      <!-- 0 -->\r\n      <g transform=\"translate(133.846875 239.238438)scale(0.1 -0.1)\">\r\n       <defs>\r\n        <path d=\"M 2034 4250 \r\nQ 1547 4250 1301 3770 \r\nQ 1056 3291 1056 2328 \r\nQ 1056 1369 1301 889 \r\nQ 1547 409 2034 409 \r\nQ 2525 409 2770 889 \r\nQ 3016 1369 3016 2328 \r\nQ 3016 3291 2770 3770 \r\nQ 2525 4250 2034 4250 \r\nz\r\nM 2034 4750 \r\nQ 2819 4750 3233 4129 \r\nQ 3647 3509 3647 2328 \r\nQ 3647 1150 3233 529 \r\nQ 2819 -91 2034 -91 \r\nQ 1250 -91 836 529 \r\nQ 422 1150 422 2328 \r\nQ 422 3509 836 4129 \r\nQ 1250 4750 2034 4750 \r\nz\r\n\" id=\"DejaVuSans-30\" transform=\"scale(0.015625)\"/>\r\n       </defs>\r\n       <use xlink:href=\"#DejaVuSans-30\"/>\r\n      </g>\r\n     </g>\r\n    </g>\r\n    <g id=\"xtick_2\">\r\n     <g id=\"line2d_2\">\r\n      <g>\r\n       <use style=\"stroke:#000000;stroke-width:0.8;\" x=\"304.428125\" xlink:href=\"#ma63137cb5b\" y=\"224.64\"/>\r\n      </g>\r\n     </g>\r\n     <g id=\"text_2\">\r\n      <!-- 1 -->\r\n      <g transform=\"translate(301.246875 239.238438)scale(0.1 -0.1)\">\r\n       <defs>\r\n        <path d=\"M 794 531 \r\nL 1825 531 \r\nL 1825 4091 \r\nL 703 3866 \r\nL 703 4441 \r\nL 1819 4666 \r\nL 2450 4666 \r\nL 2450 531 \r\nL 3481 531 \r\nL 3481 0 \r\nL 794 0 \r\nL 794 531 \r\nz\r\n\" id=\"DejaVuSans-31\" transform=\"scale(0.015625)\"/>\r\n       </defs>\r\n       <use xlink:href=\"#DejaVuSans-31\"/>\r\n      </g>\r\n     </g>\r\n    </g>\r\n    <g id=\"text_3\">\r\n     <!-- highCrime -->\r\n     <g transform=\"translate(194.944531 252.916563)scale(0.1 -0.1)\">\r\n      <defs>\r\n       <path d=\"M 3513 2113 \r\nL 3513 0 \r\nL 2938 0 \r\nL 2938 2094 \r\nQ 2938 2591 2744 2837 \r\nQ 2550 3084 2163 3084 \r\nQ 1697 3084 1428 2787 \r\nQ 1159 2491 1159 1978 \r\nL 1159 0 \r\nL 581 0 \r\nL 581 4863 \r\nL 1159 4863 \r\nL 1159 2956 \r\nQ 1366 3272 1645 3428 \r\nQ 1925 3584 2291 3584 \r\nQ 2894 3584 3203 3211 \r\nQ 3513 2838 3513 2113 \r\nz\r\n\" id=\"DejaVuSans-68\" transform=\"scale(0.015625)\"/>\r\n       <path d=\"M 603 3500 \r\nL 1178 3500 \r\nL 1178 0 \r\nL 603 0 \r\nL 603 3500 \r\nz\r\nM 603 4863 \r\nL 1178 4863 \r\nL 1178 4134 \r\nL 603 4134 \r\nL 603 4863 \r\nz\r\n\" id=\"DejaVuSans-69\" transform=\"scale(0.015625)\"/>\r\n       <path d=\"M 2906 1791 \r\nQ 2906 2416 2648 2759 \r\nQ 2391 3103 1925 3103 \r\nQ 1463 3103 1205 2759 \r\nQ 947 2416 947 1791 \r\nQ 947 1169 1205 825 \r\nQ 1463 481 1925 481 \r\nQ 2391 481 2648 825 \r\nQ 2906 1169 2906 1791 \r\nz\r\nM 3481 434 \r\nQ 3481 -459 3084 -895 \r\nQ 2688 -1331 1869 -1331 \r\nQ 1566 -1331 1297 -1286 \r\nQ 1028 -1241 775 -1147 \r\nL 775 -588 \r\nQ 1028 -725 1275 -790 \r\nQ 1522 -856 1778 -856 \r\nQ 2344 -856 2625 -561 \r\nQ 2906 -266 2906 331 \r\nL 2906 616 \r\nQ 2728 306 2450 153 \r\nQ 2172 0 1784 0 \r\nQ 1141 0 747 490 \r\nQ 353 981 353 1791 \r\nQ 353 2603 747 3093 \r\nQ 1141 3584 1784 3584 \r\nQ 2172 3584 2450 3431 \r\nQ 2728 3278 2906 2969 \r\nL 2906 3500 \r\nL 3481 3500 \r\nL 3481 434 \r\nz\r\n\" id=\"DejaVuSans-67\" transform=\"scale(0.015625)\"/>\r\n       <path d=\"M 4122 4306 \r\nL 4122 3641 \r\nQ 3803 3938 3442 4084 \r\nQ 3081 4231 2675 4231 \r\nQ 1875 4231 1450 3742 \r\nQ 1025 3253 1025 2328 \r\nQ 1025 1406 1450 917 \r\nQ 1875 428 2675 428 \r\nQ 3081 428 3442 575 \r\nQ 3803 722 4122 1019 \r\nL 4122 359 \r\nQ 3791 134 3420 21 \r\nQ 3050 -91 2638 -91 \r\nQ 1578 -91 968 557 \r\nQ 359 1206 359 2328 \r\nQ 359 3453 968 4101 \r\nQ 1578 4750 2638 4750 \r\nQ 3056 4750 3426 4639 \r\nQ 3797 4528 4122 4306 \r\nz\r\n\" id=\"DejaVuSans-43\" transform=\"scale(0.015625)\"/>\r\n       <path d=\"M 2631 2963 \r\nQ 2534 3019 2420 3045 \r\nQ 2306 3072 2169 3072 \r\nQ 1681 3072 1420 2755 \r\nQ 1159 2438 1159 1844 \r\nL 1159 0 \r\nL 581 0 \r\nL 581 3500 \r\nL 1159 3500 \r\nL 1159 2956 \r\nQ 1341 3275 1631 3429 \r\nQ 1922 3584 2338 3584 \r\nQ 2397 3584 2469 3576 \r\nQ 2541 3569 2628 3553 \r\nL 2631 2963 \r\nz\r\n\" id=\"DejaVuSans-72\" transform=\"scale(0.015625)\"/>\r\n       <path d=\"M 3328 2828 \r\nQ 3544 3216 3844 3400 \r\nQ 4144 3584 4550 3584 \r\nQ 5097 3584 5394 3201 \r\nQ 5691 2819 5691 2113 \r\nL 5691 0 \r\nL 5113 0 \r\nL 5113 2094 \r\nQ 5113 2597 4934 2840 \r\nQ 4756 3084 4391 3084 \r\nQ 3944 3084 3684 2787 \r\nQ 3425 2491 3425 1978 \r\nL 3425 0 \r\nL 2847 0 \r\nL 2847 2094 \r\nQ 2847 2600 2669 2842 \r\nQ 2491 3084 2119 3084 \r\nQ 1678 3084 1418 2786 \r\nQ 1159 2488 1159 1978 \r\nL 1159 0 \r\nL 581 0 \r\nL 581 3500 \r\nL 1159 3500 \r\nL 1159 2956 \r\nQ 1356 3278 1631 3431 \r\nQ 1906 3584 2284 3584 \r\nQ 2666 3584 2933 3390 \r\nQ 3200 3197 3328 2828 \r\nz\r\n\" id=\"DejaVuSans-6d\" transform=\"scale(0.015625)\"/>\r\n       <path d=\"M 3597 1894 \r\nL 3597 1613 \r\nL 953 1613 \r\nQ 991 1019 1311 708 \r\nQ 1631 397 2203 397 \r\nQ 2534 397 2845 478 \r\nQ 3156 559 3463 722 \r\nL 3463 178 \r\nQ 3153 47 2828 -22 \r\nQ 2503 -91 2169 -91 \r\nQ 1331 -91 842 396 \r\nQ 353 884 353 1716 \r\nQ 353 2575 817 3079 \r\nQ 1281 3584 2069 3584 \r\nQ 2775 3584 3186 3129 \r\nQ 3597 2675 3597 1894 \r\nz\r\nM 3022 2063 \r\nQ 3016 2534 2758 2815 \r\nQ 2500 3097 2075 3097 \r\nQ 1594 3097 1305 2825 \r\nQ 1016 2553 972 2059 \r\nL 3022 2063 \r\nz\r\n\" id=\"DejaVuSans-65\" transform=\"scale(0.015625)\"/>\r\n      </defs>\r\n      <use xlink:href=\"#DejaVuSans-68\"/>\r\n      <use x=\"63.378906\" xlink:href=\"#DejaVuSans-69\"/>\r\n      <use x=\"91.162109\" xlink:href=\"#DejaVuSans-67\"/>\r\n      <use x=\"154.638672\" xlink:href=\"#DejaVuSans-68\"/>\r\n      <use x=\"218.017578\" xlink:href=\"#DejaVuSans-43\"/>\r\n      <use x=\"287.841797\" xlink:href=\"#DejaVuSans-72\"/>\r\n      <use x=\"328.955078\" xlink:href=\"#DejaVuSans-69\"/>\r\n      <use x=\"356.738281\" xlink:href=\"#DejaVuSans-6d\"/>\r\n      <use x=\"454.150391\" xlink:href=\"#DejaVuSans-65\"/>\r\n     </g>\r\n    </g>\r\n   </g>\r\n   <g id=\"matplotlib.axis_2\">\r\n    <g id=\"ytick_1\">\r\n     <g id=\"line2d_3\">\r\n      <defs>\r\n       <path d=\"M 0 0 \r\nL -3.5 0 \r\n\" id=\"mbc5525f2c2\" style=\"stroke:#000000;stroke-width:0.8;\"/>\r\n      </defs>\r\n      <g>\r\n       <use style=\"stroke:#000000;stroke-width:0.8;\" x=\"53.328125\" xlink:href=\"#mbc5525f2c2\" y=\"224.64\"/>\r\n      </g>\r\n     </g>\r\n     <g id=\"text_4\">\r\n      <!-- 0 -->\r\n      <g transform=\"translate(39.965625 228.439219)scale(0.1 -0.1)\">\r\n       <use xlink:href=\"#DejaVuSans-30\"/>\r\n      </g>\r\n     </g>\r\n    </g>\r\n    <g id=\"ytick_2\">\r\n     <g id=\"line2d_4\">\r\n      <g>\r\n       <use style=\"stroke:#000000;stroke-width:0.8;\" x=\"53.328125\" xlink:href=\"#mbc5525f2c2\" y=\"191.506286\"/>\r\n      </g>\r\n     </g>\r\n     <g id=\"text_5\">\r\n      <!-- 200 -->\r\n      <g transform=\"translate(27.240625 195.305504)scale(0.1 -0.1)\">\r\n       <defs>\r\n        <path d=\"M 1228 531 \r\nL 3431 531 \r\nL 3431 0 \r\nL 469 0 \r\nL 469 531 \r\nQ 828 903 1448 1529 \r\nQ 2069 2156 2228 2338 \r\nQ 2531 2678 2651 2914 \r\nQ 2772 3150 2772 3378 \r\nQ 2772 3750 2511 3984 \r\nQ 2250 4219 1831 4219 \r\nQ 1534 4219 1204 4116 \r\nQ 875 4013 500 3803 \r\nL 500 4441 \r\nQ 881 4594 1212 4672 \r\nQ 1544 4750 1819 4750 \r\nQ 2544 4750 2975 4387 \r\nQ 3406 4025 3406 3419 \r\nQ 3406 3131 3298 2873 \r\nQ 3191 2616 2906 2266 \r\nQ 2828 2175 2409 1742 \r\nQ 1991 1309 1228 531 \r\nz\r\n\" id=\"DejaVuSans-32\" transform=\"scale(0.015625)\"/>\r\n       </defs>\r\n       <use xlink:href=\"#DejaVuSans-32\"/>\r\n       <use x=\"63.623047\" xlink:href=\"#DejaVuSans-30\"/>\r\n       <use x=\"127.246094\" xlink:href=\"#DejaVuSans-30\"/>\r\n      </g>\r\n     </g>\r\n    </g>\r\n    <g id=\"ytick_3\">\r\n     <g id=\"line2d_5\">\r\n      <g>\r\n       <use style=\"stroke:#000000;stroke-width:0.8;\" x=\"53.328125\" xlink:href=\"#mbc5525f2c2\" y=\"158.372571\"/>\r\n      </g>\r\n     </g>\r\n     <g id=\"text_6\">\r\n      <!-- 400 -->\r\n      <g transform=\"translate(27.240625 162.17179)scale(0.1 -0.1)\">\r\n       <defs>\r\n        <path d=\"M 2419 4116 \r\nL 825 1625 \r\nL 2419 1625 \r\nL 2419 4116 \r\nz\r\nM 2253 4666 \r\nL 3047 4666 \r\nL 3047 1625 \r\nL 3713 1625 \r\nL 3713 1100 \r\nL 3047 1100 \r\nL 3047 0 \r\nL 2419 0 \r\nL 2419 1100 \r\nL 313 1100 \r\nL 313 1709 \r\nL 2253 4666 \r\nz\r\n\" id=\"DejaVuSans-34\" transform=\"scale(0.015625)\"/>\r\n       </defs>\r\n       <use xlink:href=\"#DejaVuSans-34\"/>\r\n       <use x=\"63.623047\" xlink:href=\"#DejaVuSans-30\"/>\r\n       <use x=\"127.246094\" xlink:href=\"#DejaVuSans-30\"/>\r\n      </g>\r\n     </g>\r\n    </g>\r\n    <g id=\"ytick_4\">\r\n     <g id=\"line2d_6\">\r\n      <g>\r\n       <use style=\"stroke:#000000;stroke-width:0.8;\" x=\"53.328125\" xlink:href=\"#mbc5525f2c2\" y=\"125.238857\"/>\r\n      </g>\r\n     </g>\r\n     <g id=\"text_7\">\r\n      <!-- 600 -->\r\n      <g transform=\"translate(27.240625 129.038076)scale(0.1 -0.1)\">\r\n       <defs>\r\n        <path d=\"M 2113 2584 \r\nQ 1688 2584 1439 2293 \r\nQ 1191 2003 1191 1497 \r\nQ 1191 994 1439 701 \r\nQ 1688 409 2113 409 \r\nQ 2538 409 2786 701 \r\nQ 3034 994 3034 1497 \r\nQ 3034 2003 2786 2293 \r\nQ 2538 2584 2113 2584 \r\nz\r\nM 3366 4563 \r\nL 3366 3988 \r\nQ 3128 4100 2886 4159 \r\nQ 2644 4219 2406 4219 \r\nQ 1781 4219 1451 3797 \r\nQ 1122 3375 1075 2522 \r\nQ 1259 2794 1537 2939 \r\nQ 1816 3084 2150 3084 \r\nQ 2853 3084 3261 2657 \r\nQ 3669 2231 3669 1497 \r\nQ 3669 778 3244 343 \r\nQ 2819 -91 2113 -91 \r\nQ 1303 -91 875 529 \r\nQ 447 1150 447 2328 \r\nQ 447 3434 972 4092 \r\nQ 1497 4750 2381 4750 \r\nQ 2619 4750 2861 4703 \r\nQ 3103 4656 3366 4563 \r\nz\r\n\" id=\"DejaVuSans-36\" transform=\"scale(0.015625)\"/>\r\n       </defs>\r\n       <use xlink:href=\"#DejaVuSans-36\"/>\r\n       <use x=\"63.623047\" xlink:href=\"#DejaVuSans-30\"/>\r\n       <use x=\"127.246094\" xlink:href=\"#DejaVuSans-30\"/>\r\n      </g>\r\n     </g>\r\n    </g>\r\n    <g id=\"ytick_5\">\r\n     <g id=\"line2d_7\">\r\n      <g>\r\n       <use style=\"stroke:#000000;stroke-width:0.8;\" x=\"53.328125\" xlink:href=\"#mbc5525f2c2\" y=\"92.105143\"/>\r\n      </g>\r\n     </g>\r\n     <g id=\"text_8\">\r\n      <!-- 800 -->\r\n      <g transform=\"translate(27.240625 95.904362)scale(0.1 -0.1)\">\r\n       <defs>\r\n        <path d=\"M 2034 2216 \r\nQ 1584 2216 1326 1975 \r\nQ 1069 1734 1069 1313 \r\nQ 1069 891 1326 650 \r\nQ 1584 409 2034 409 \r\nQ 2484 409 2743 651 \r\nQ 3003 894 3003 1313 \r\nQ 3003 1734 2745 1975 \r\nQ 2488 2216 2034 2216 \r\nz\r\nM 1403 2484 \r\nQ 997 2584 770 2862 \r\nQ 544 3141 544 3541 \r\nQ 544 4100 942 4425 \r\nQ 1341 4750 2034 4750 \r\nQ 2731 4750 3128 4425 \r\nQ 3525 4100 3525 3541 \r\nQ 3525 3141 3298 2862 \r\nQ 3072 2584 2669 2484 \r\nQ 3125 2378 3379 2068 \r\nQ 3634 1759 3634 1313 \r\nQ 3634 634 3220 271 \r\nQ 2806 -91 2034 -91 \r\nQ 1263 -91 848 271 \r\nQ 434 634 434 1313 \r\nQ 434 1759 690 2068 \r\nQ 947 2378 1403 2484 \r\nz\r\nM 1172 3481 \r\nQ 1172 3119 1398 2916 \r\nQ 1625 2713 2034 2713 \r\nQ 2441 2713 2670 2916 \r\nQ 2900 3119 2900 3481 \r\nQ 2900 3844 2670 4047 \r\nQ 2441 4250 2034 4250 \r\nQ 1625 4250 1398 4047 \r\nQ 1172 3844 1172 3481 \r\nz\r\n\" id=\"DejaVuSans-38\" transform=\"scale(0.015625)\"/>\r\n       </defs>\r\n       <use xlink:href=\"#DejaVuSans-38\"/>\r\n       <use x=\"63.623047\" xlink:href=\"#DejaVuSans-30\"/>\r\n       <use x=\"127.246094\" xlink:href=\"#DejaVuSans-30\"/>\r\n      </g>\r\n     </g>\r\n    </g>\r\n    <g id=\"ytick_6\">\r\n     <g id=\"line2d_8\">\r\n      <g>\r\n       <use style=\"stroke:#000000;stroke-width:0.8;\" x=\"53.328125\" xlink:href=\"#mbc5525f2c2\" y=\"58.971429\"/>\r\n      </g>\r\n     </g>\r\n     <g id=\"text_9\">\r\n      <!-- 1000 -->\r\n      <g transform=\"translate(20.878125 62.770647)scale(0.1 -0.1)\">\r\n       <use xlink:href=\"#DejaVuSans-31\"/>\r\n       <use x=\"63.623047\" xlink:href=\"#DejaVuSans-30\"/>\r\n       <use x=\"127.246094\" xlink:href=\"#DejaVuSans-30\"/>\r\n       <use x=\"190.869141\" xlink:href=\"#DejaVuSans-30\"/>\r\n      </g>\r\n     </g>\r\n    </g>\r\n    <g id=\"ytick_7\">\r\n     <g id=\"line2d_9\">\r\n      <g>\r\n       <use style=\"stroke:#000000;stroke-width:0.8;\" x=\"53.328125\" xlink:href=\"#mbc5525f2c2\" y=\"25.837714\"/>\r\n      </g>\r\n     </g>\r\n     <g id=\"text_10\">\r\n      <!-- 1200 -->\r\n      <g transform=\"translate(20.878125 29.636933)scale(0.1 -0.1)\">\r\n       <use xlink:href=\"#DejaVuSans-31\"/>\r\n       <use x=\"63.623047\" xlink:href=\"#DejaVuSans-32\"/>\r\n       <use x=\"127.246094\" xlink:href=\"#DejaVuSans-30\"/>\r\n       <use x=\"190.869141\" xlink:href=\"#DejaVuSans-30\"/>\r\n      </g>\r\n     </g>\r\n    </g>\r\n    <g id=\"text_11\">\r\n     <!-- count -->\r\n     <g transform=\"translate(14.798438 130.02625)rotate(-90)scale(0.1 -0.1)\">\r\n      <defs>\r\n       <path d=\"M 3122 3366 \r\nL 3122 2828 \r\nQ 2878 2963 2633 3030 \r\nQ 2388 3097 2138 3097 \r\nQ 1578 3097 1268 2742 \r\nQ 959 2388 959 1747 \r\nQ 959 1106 1268 751 \r\nQ 1578 397 2138 397 \r\nQ 2388 397 2633 464 \r\nQ 2878 531 3122 666 \r\nL 3122 134 \r\nQ 2881 22 2623 -34 \r\nQ 2366 -91 2075 -91 \r\nQ 1284 -91 818 406 \r\nQ 353 903 353 1747 \r\nQ 353 2603 823 3093 \r\nQ 1294 3584 2113 3584 \r\nQ 2378 3584 2631 3529 \r\nQ 2884 3475 3122 3366 \r\nz\r\n\" id=\"DejaVuSans-63\" transform=\"scale(0.015625)\"/>\r\n       <path d=\"M 1959 3097 \r\nQ 1497 3097 1228 2736 \r\nQ 959 2375 959 1747 \r\nQ 959 1119 1226 758 \r\nQ 1494 397 1959 397 \r\nQ 2419 397 2687 759 \r\nQ 2956 1122 2956 1747 \r\nQ 2956 2369 2687 2733 \r\nQ 2419 3097 1959 3097 \r\nz\r\nM 1959 3584 \r\nQ 2709 3584 3137 3096 \r\nQ 3566 2609 3566 1747 \r\nQ 3566 888 3137 398 \r\nQ 2709 -91 1959 -91 \r\nQ 1206 -91 779 398 \r\nQ 353 888 353 1747 \r\nQ 353 2609 779 3096 \r\nQ 1206 3584 1959 3584 \r\nz\r\n\" id=\"DejaVuSans-6f\" transform=\"scale(0.015625)\"/>\r\n       <path d=\"M 544 1381 \r\nL 544 3500 \r\nL 1119 3500 \r\nL 1119 1403 \r\nQ 1119 906 1312 657 \r\nQ 1506 409 1894 409 \r\nQ 2359 409 2629 706 \r\nQ 2900 1003 2900 1516 \r\nL 2900 3500 \r\nL 3475 3500 \r\nL 3475 0 \r\nL 2900 0 \r\nL 2900 538 \r\nQ 2691 219 2414 64 \r\nQ 2138 -91 1772 -91 \r\nQ 1169 -91 856 284 \r\nQ 544 659 544 1381 \r\nz\r\nM 1991 3584 \r\nL 1991 3584 \r\nz\r\n\" id=\"DejaVuSans-75\" transform=\"scale(0.015625)\"/>\r\n       <path d=\"M 3513 2113 \r\nL 3513 0 \r\nL 2938 0 \r\nL 2938 2094 \r\nQ 2938 2591 2744 2837 \r\nQ 2550 3084 2163 3084 \r\nQ 1697 3084 1428 2787 \r\nQ 1159 2491 1159 1978 \r\nL 1159 0 \r\nL 581 0 \r\nL 581 3500 \r\nL 1159 3500 \r\nL 1159 2956 \r\nQ 1366 3272 1645 3428 \r\nQ 1925 3584 2291 3584 \r\nQ 2894 3584 3203 3211 \r\nQ 3513 2838 3513 2113 \r\nz\r\n\" id=\"DejaVuSans-6e\" transform=\"scale(0.015625)\"/>\r\n       <path d=\"M 1172 4494 \r\nL 1172 3500 \r\nL 2356 3500 \r\nL 2356 3053 \r\nL 1172 3053 \r\nL 1172 1153 \r\nQ 1172 725 1289 603 \r\nQ 1406 481 1766 481 \r\nL 2356 481 \r\nL 2356 0 \r\nL 1766 0 \r\nQ 1100 0 847 248 \r\nQ 594 497 594 1153 \r\nL 594 3053 \r\nL 172 3053 \r\nL 172 3500 \r\nL 594 3500 \r\nL 594 4494 \r\nL 1172 4494 \r\nz\r\n\" id=\"DejaVuSans-74\" transform=\"scale(0.015625)\"/>\r\n      </defs>\r\n      <use xlink:href=\"#DejaVuSans-63\"/>\r\n      <use x=\"54.980469\" xlink:href=\"#DejaVuSans-6f\"/>\r\n      <use x=\"116.162109\" xlink:href=\"#DejaVuSans-75\"/>\r\n      <use x=\"179.541016\" xlink:href=\"#DejaVuSans-6e\"/>\r\n      <use x=\"242.919922\" xlink:href=\"#DejaVuSans-74\"/>\r\n     </g>\r\n    </g>\r\n   </g>\r\n   <g id=\"patch_5\">\r\n    <path d=\"M 53.328125 224.64 \r\nL 53.328125 7.2 \r\n\" style=\"fill:none;stroke:#000000;stroke-linecap:square;stroke-linejoin:miter;stroke-width:0.8;\"/>\r\n   </g>\r\n   <g id=\"patch_6\">\r\n    <path d=\"M 388.128125 224.64 \r\nL 388.128125 7.2 \r\n\" style=\"fill:none;stroke:#000000;stroke-linecap:square;stroke-linejoin:miter;stroke-width:0.8;\"/>\r\n   </g>\r\n   <g id=\"patch_7\">\r\n    <path d=\"M 53.328125 224.64 \r\nL 388.128125 224.64 \r\n\" style=\"fill:none;stroke:#000000;stroke-linecap:square;stroke-linejoin:miter;stroke-width:0.8;\"/>\r\n   </g>\r\n   <g id=\"patch_8\">\r\n    <path d=\"M 53.328125 7.2 \r\nL 388.128125 7.2 \r\n\" style=\"fill:none;stroke:#000000;stroke-linecap:square;stroke-linejoin:miter;stroke-width:0.8;\"/>\r\n   </g>\r\n  </g>\r\n </g>\r\n <defs>\r\n  <clipPath id=\"p2d4e617b3a\">\r\n   <rect height=\"217.44\" width=\"334.8\" x=\"53.328125\" y=\"7.2\"/>\r\n  </clipPath>\r\n </defs>\r\n</svg>\r\n",
      "image/png": "[encoded data removed]"
     },
     "metadata": {
      "needs_background": "light"
     }
    }
   ],
   "source": [
    "sns.countplot(x='highCrime',data=df)"
   ]
  },
  {
   "cell_type": "code",
   "execution_count": 89,
   "metadata": {},
   "outputs": [],
   "source": [
    "X = df.drop(['highCrime'],axis=1)\n",
    "y = df['highCrime']"
   ]
  },
  {
   "cell_type": "code",
   "execution_count": 76,
   "metadata": {},
   "outputs": [
    {
     "output_type": "execute_result",
     "data": {
      "text/plain": [
       "<xgboost.core.DMatrix at 0x1f499edfe50>"
      ]
     },
     "metadata": {},
     "execution_count": 76
    }
   ],
   "source": [
    "data_matrix = xgb.DMatrix(data=X, label=y)\n",
    "data_matrix"
   ]
  },
  {
   "cell_type": "code",
   "execution_count": 77,
   "metadata": {},
   "outputs": [],
   "source": [
    "params = {\n",
    "    'learning_rate':.1,\n",
    "    'max_depth':5,\n",
    "    'alpha':10,\n",
    "}"
   ]
  },
  {
   "cell_type": "code",
   "execution_count": 78,
   "metadata": {},
   "outputs": [],
   "source": [
    "result = xgb.cv(dtrain= data_matrix,\n",
    "                params= params,\n",
    "                nfold = 5,\n",
    "                num_boost_round=100,\n",
    "                early_stopping_rounds=10,\n",
    "                metrics='rmse',\n",
    "                seed = 0 )"
   ]
  },
  {
   "cell_type": "code",
   "execution_count": 31,
   "metadata": {},
   "outputs": [
    {
     "output_type": "execute_result",
     "data": {
      "text/plain": [
       "    train-rmse-mean  train-rmse-std  test-rmse-mean  test-rmse-std\n",
       "0          0.474827        0.000143        0.477641       0.000469\n",
       "1          0.452760        0.000517        0.458262       0.000979\n",
       "2          0.433575        0.000823        0.441493       0.001243\n",
       "3          0.417038        0.000810        0.427204       0.001712\n",
       "4          0.402106        0.000661        0.414893       0.001957\n",
       "5          0.389291        0.000949        0.404167       0.002457\n",
       "6          0.377899        0.001079        0.395302       0.002793\n",
       "7          0.368179        0.001369        0.387346       0.002801\n",
       "8          0.359254        0.001601        0.380443       0.003276\n",
       "9          0.351833        0.001730        0.375218       0.003481\n",
       "10         0.345209        0.001686        0.370563       0.003795\n",
       "11         0.339609        0.001603        0.366602       0.003805\n",
       "12         0.334556        0.001574        0.363414       0.004196\n",
       "13         0.330124        0.001351        0.360472       0.004525\n",
       "14         0.326360        0.001410        0.358412       0.004606\n",
       "15         0.322757        0.001366        0.356498       0.004812\n",
       "16         0.319751        0.001245        0.354667       0.005161\n",
       "17         0.317072        0.001509        0.353585       0.005190\n",
       "18         0.314397        0.001597        0.352441       0.005365\n",
       "19         0.312019        0.001804        0.351395       0.005349\n",
       "20         0.310011        0.001749        0.350588       0.005327\n",
       "21         0.308137        0.001842        0.349860       0.005532\n",
       "22         0.306358        0.001882        0.349135       0.005688\n",
       "23         0.304637        0.001973        0.348590       0.005927\n",
       "24         0.303081        0.001883        0.348340       0.006043\n",
       "25         0.301617        0.001940        0.347894       0.006199\n",
       "26         0.300315        0.002007        0.347531       0.006296\n",
       "27         0.298980        0.002055        0.347282       0.006540\n",
       "28         0.297765        0.002112        0.347090       0.006789\n",
       "29         0.296556        0.002220        0.346808       0.006840\n",
       "30         0.295417        0.002194        0.346533       0.006850\n",
       "31         0.294337        0.002254        0.346437       0.006913\n",
       "32         0.293327        0.002271        0.346379       0.006779\n",
       "33         0.292250        0.002310        0.346442       0.006846\n",
       "34         0.291256        0.002253        0.346321       0.006931\n",
       "35         0.290277        0.002385        0.346252       0.006910\n",
       "36         0.289380        0.002407        0.346189       0.006980\n",
       "37         0.288548        0.002482        0.346008       0.007025\n",
       "38         0.287735        0.002574        0.345872       0.006905\n",
       "39         0.286910        0.002477        0.345905       0.006769\n",
       "40         0.286042        0.002527        0.345909       0.006698\n",
       "41         0.285157        0.002520        0.345814       0.006782"
      ],
      "text/html": "<div>\n<style scoped>\n    .dataframe tbody tr th:only-of-type {\n        vertical-align: middle;\n    }\n\n    .dataframe tbody tr th {\n        vertical-align: top;\n    }\n\n    .dataframe thead th {\n        text-align: right;\n    }\n</style>\n<table border=\"1\" class=\"dataframe\">\n  <thead>\n    <tr style=\"text-align: right;\">\n      <th></th>\n      <th>train-rmse-mean</th>\n      <th>train-rmse-std</th>\n      <th>test-rmse-mean</th>\n      <th>test-rmse-std</th>\n    </tr>\n  </thead>\n  <tbody>\n    <tr>\n      <th>0</th>\n      <td>0.474827</td>\n      <td>0.000143</td>\n      <td>0.477641</td>\n      <td>0.000469</td>\n    </tr>\n    <tr>\n      <th>1</th>\n      <td>0.452760</td>\n      <td>0.000517</td>\n      <td>0.458262</td>\n      <td>0.000979</td>\n    </tr>\n    <tr>\n      <th>2</th>\n      <td>0.433575</td>\n      <td>0.000823</td>\n      <td>0.441493</td>\n      <td>0.001243</td>\n    </tr>\n    <tr>\n      <th>3</th>\n      <td>0.417038</td>\n      <td>0.000810</td>\n      <td>0.427204</td>\n      <td>0.001712</td>\n    </tr>\n    <tr>\n      <th>4</th>\n      <td>0.402106</td>\n      <td>0.000661</td>\n      <td>0.414893</td>\n      <td>0.001957</td>\n    </tr>\n    <tr>\n      <th>5</th>\n      <td>0.389291</td>\n      <td>0.000949</td>\n      <td>0.404167</td>\n      <td>0.002457</td>\n    </tr>\n    <tr>\n      <th>6</th>\n      <td>0.377899</td>\n      <td>0.001079</td>\n      <td>0.395302</td>\n      <td>0.002793</td>\n    </tr>\n    <tr>\n      <th>7</th>\n      <td>0.368179</td>\n      <td>0.001369</td>\n      <td>0.387346</td>\n      <td>0.002801</td>\n    </tr>\n    <tr>\n      <th>8</th>\n      <td>0.359254</td>\n      <td>0.001601</td>\n      <td>0.380443</td>\n      <td>0.003276</td>\n    </tr>\n    <tr>\n      <th>9</th>\n      <td>0.351833</td>\n      <td>0.001730</td>\n      <td>0.375218</td>\n      <td>0.003481</td>\n    </tr>\n    <tr>\n      <th>10</th>\n      <td>0.345209</td>\n      <td>0.001686</td>\n      <td>0.370563</td>\n      <td>0.003795</td>\n    </tr>\n    <tr>\n      <th>11</th>\n      <td>0.339609</td>\n      <td>0.001603</td>\n      <td>0.366602</td>\n      <td>0.003805</td>\n    </tr>\n    <tr>\n      <th>12</th>\n      <td>0.334556</td>\n      <td>0.001574</td>\n      <td>0.363414</td>\n      <td>0.004196</td>\n    </tr>\n    <tr>\n      <th>13</th>\n      <td>0.330124</td>\n      <td>0.001351</td>\n      <td>0.360472</td>\n      <td>0.004525</td>\n    </tr>\n    <tr>\n      <th>14</th>\n      <td>0.326360</td>\n      <td>0.001410</td>\n      <td>0.358412</td>\n      <td>0.004606</td>\n    </tr>\n    <tr>\n      <th>15</th>\n      <td>0.322757</td>\n      <td>0.001366</td>\n      <td>0.356498</td>\n      <td>0.004812</td>\n    </tr>\n    <tr>\n      <th>16</th>\n      <td>0.319751</td>\n      <td>0.001245</td>\n      <td>0.354667</td>\n      <td>0.005161</td>\n    </tr>\n    <tr>\n      <th>17</th>\n      <td>0.317072</td>\n      <td>0.001509</td>\n      <td>0.353585</td>\n      <td>0.005190</td>\n    </tr>\n    <tr>\n      <th>18</th>\n      <td>0.314397</td>\n      <td>0.001597</td>\n      <td>0.352441</td>\n      <td>0.005365</td>\n    </tr>\n    <tr>\n      <th>19</th>\n      <td>0.312019</td>\n      <td>0.001804</td>\n      <td>0.351395</td>\n      <td>0.005349</td>\n    </tr>\n    <tr>\n      <th>20</th>\n      <td>0.310011</td>\n      <td>0.001749</td>\n      <td>0.350588</td>\n      <td>0.005327</td>\n    </tr>\n    <tr>\n      <th>21</th>\n      <td>0.308137</td>\n      <td>0.001842</td>\n      <td>0.349860</td>\n      <td>0.005532</td>\n    </tr>\n    <tr>\n      <th>22</th>\n      <td>0.306358</td>\n      <td>0.001882</td>\n      <td>0.349135</td>\n      <td>0.005688</td>\n    </tr>\n    <tr>\n      <th>23</th>\n      <td>0.304637</td>\n      <td>0.001973</td>\n      <td>0.348590</td>\n      <td>0.005927</td>\n    </tr>\n    <tr>\n      <th>24</th>\n      <td>0.303081</td>\n      <td>0.001883</td>\n      <td>0.348340</td>\n      <td>0.006043</td>\n    </tr>\n    <tr>\n      <th>25</th>\n      <td>0.301617</td>\n      <td>0.001940</td>\n      <td>0.347894</td>\n      <td>0.006199</td>\n    </tr>\n    <tr>\n      <th>26</th>\n      <td>0.300315</td>\n      <td>0.002007</td>\n      <td>0.347531</td>\n      <td>0.006296</td>\n    </tr>\n    <tr>\n      <th>27</th>\n      <td>0.298980</td>\n      <td>0.002055</td>\n      <td>0.347282</td>\n      <td>0.006540</td>\n    </tr>\n    <tr>\n      <th>28</th>\n      <td>0.297765</td>\n      <td>0.002112</td>\n      <td>0.347090</td>\n      <td>0.006789</td>\n    </tr>\n    <tr>\n      <th>29</th>\n      <td>0.296556</td>\n      <td>0.002220</td>\n      <td>0.346808</td>\n      <td>0.006840</td>\n    </tr>\n    <tr>\n      <th>30</th>\n      <td>0.295417</td>\n      <td>0.002194</td>\n      <td>0.346533</td>\n      <td>0.006850</td>\n    </tr>\n    <tr>\n      <th>31</th>\n      <td>0.294337</td>\n      <td>0.002254</td>\n      <td>0.346437</td>\n      <td>0.006913</td>\n    </tr>\n    <tr>\n      <th>32</th>\n      <td>0.293327</td>\n      <td>0.002271</td>\n      <td>0.346379</td>\n      <td>0.006779</td>\n    </tr>\n    <tr>\n      <th>33</th>\n      <td>0.292250</td>\n      <td>0.002310</td>\n      <td>0.346442</td>\n      <td>0.006846</td>\n    </tr>\n    <tr>\n      <th>34</th>\n      <td>0.291256</td>\n      <td>0.002253</td>\n      <td>0.346321</td>\n      <td>0.006931</td>\n    </tr>\n    <tr>\n      <th>35</th>\n      <td>0.290277</td>\n      <td>0.002385</td>\n      <td>0.346252</td>\n      <td>0.006910</td>\n    </tr>\n    <tr>\n      <th>36</th>\n      <td>0.289380</td>\n      <td>0.002407</td>\n      <td>0.346189</td>\n      <td>0.006980</td>\n    </tr>\n    <tr>\n      <th>37</th>\n      <td>0.288548</td>\n      <td>0.002482</td>\n      <td>0.346008</td>\n      <td>0.007025</td>\n    </tr>\n    <tr>\n      <th>38</th>\n      <td>0.287735</td>\n      <td>0.002574</td>\n      <td>0.345872</td>\n      <td>0.006905</td>\n    </tr>\n    <tr>\n      <th>39</th>\n      <td>0.286910</td>\n      <td>0.002477</td>\n      <td>0.345905</td>\n      <td>0.006769</td>\n    </tr>\n    <tr>\n      <th>40</th>\n      <td>0.286042</td>\n      <td>0.002527</td>\n      <td>0.345909</td>\n      <td>0.006698</td>\n    </tr>\n    <tr>\n      <th>41</th>\n      <td>0.285157</td>\n      <td>0.002520</td>\n      <td>0.345814</td>\n      <td>0.006782</td>\n    </tr>\n  </tbody>\n</table>\n</div>"
     },
     "metadata": {},
     "execution_count": 31
    }
   ],
   "source": [
    "result"
   ]
  },
  {
   "cell_type": "code",
   "execution_count": 28,
   "metadata": {},
   "outputs": [
    {
     "output_type": "execute_result",
     "data": {
      "text/plain": [
       "<AxesSubplot:>"
      ]
     },
     "metadata": {},
     "execution_count": 28
    },
    {
     "output_type": "display_data",
     "data": {
      "text/plain": "<Figure size 432x288 with 1 Axes>",
      "image/svg+xml": "<?xml version=\"1.0\" encoding=\"utf-8\" standalone=\"no\"?>\r\n<!DOCTYPE svg PUBLIC \"-//W3C//DTD SVG 1.1//EN\"\r\n  \"http://www.w3.org/Graphics/SVG/1.1/DTD/svg11.dtd\">\r\n<svg height=\"248.518125pt\" version=\"1.1\" viewBox=\"0 0 384.828125 248.518125\" width=\"384.828125pt\" xmlns=\"http://www.w3.org/2000/svg\" xmlns:xlink=\"http://www.w3.org/1999/xlink\">\r\n <metadata>\r\n  <rdf:RDF xmlns:cc=\"http://creativecommons.org/ns#\" xmlns:dc=\"http://purl.org/dc/elements/1.1/\" xmlns:rdf=\"http://www.w3.org/1999/02/22-rdf-syntax-ns#\">\r\n   <cc:Work>\r\n    <dc:type rdf:resource=\"http://purl.org/dc/dcmitype/StillImage\"/>\r\n    <dc:date>2021-06-14T22:38:46.416143</dc:date>\r\n    <dc:format>image/svg+xml</dc:format>\r\n    <dc:creator>\r\n     <cc:Agent>\r\n      <dc:title>Matplotlib v3.4.1, https://matplotlib.org/</dc:title>\r\n     </cc:Agent>\r\n    </dc:creator>\r\n   </cc:Work>\r\n  </rdf:RDF>\r\n </metadata>\r\n <defs>\r\n  <style type=\"text/css\">*{stroke-linecap:butt;stroke-linejoin:round;}</style>\r\n </defs>\r\n <g id=\"figure_1\">\r\n  <g id=\"patch_1\">\r\n   <path d=\"M 0 248.518125 \r\nL 384.828125 248.518125 \r\nL 384.828125 0 \r\nL 0 0 \r\nz\r\n\" style=\"fill:none;\"/>\r\n  </g>\r\n  <g id=\"axes_1\">\r\n   <g id=\"patch_2\">\r\n    <path d=\"M 42.828125 224.64 \r\nL 377.628125 224.64 \r\nL 377.628125 7.2 \r\nL 42.828125 7.2 \r\nz\r\n\" style=\"fill:#ffffff;\"/>\r\n   </g>\r\n   <g id=\"matplotlib.axis_1\">\r\n    <g id=\"xtick_1\">\r\n     <g id=\"line2d_1\">\r\n      <defs>\r\n       <path d=\"M 0 0 \r\nL 0 3.5 \r\n\" id=\"m9f6aa6b3c4\" style=\"stroke:#000000;stroke-width:0.8;\"/>\r\n      </defs>\r\n      <g>\r\n       <use style=\"stroke:#000000;stroke-width:0.8;\" x=\"58.046307\" xlink:href=\"#m9f6aa6b3c4\" y=\"224.64\"/>\r\n      </g>\r\n     </g>\r\n     <g id=\"text_1\">\r\n      <!-- 0 -->\r\n      <g transform=\"translate(54.865057 239.238438)scale(0.1 -0.1)\">\r\n       <defs>\r\n        <path d=\"M 2034 4250 \r\nQ 1547 4250 1301 3770 \r\nQ 1056 3291 1056 2328 \r\nQ 1056 1369 1301 889 \r\nQ 1547 409 2034 409 \r\nQ 2525 409 2770 889 \r\nQ 3016 1369 3016 2328 \r\nQ 3016 3291 2770 3770 \r\nQ 2525 4250 2034 4250 \r\nz\r\nM 2034 4750 \r\nQ 2819 4750 3233 4129 \r\nQ 3647 3509 3647 2328 \r\nQ 3647 1150 3233 529 \r\nQ 2819 -91 2034 -91 \r\nQ 1250 -91 836 529 \r\nQ 422 1150 422 2328 \r\nQ 422 3509 836 4129 \r\nQ 1250 4750 2034 4750 \r\nz\r\n\" id=\"DejaVuSans-30\" transform=\"scale(0.015625)\"/>\r\n       </defs>\r\n       <use xlink:href=\"#DejaVuSans-30\"/>\r\n      </g>\r\n     </g>\r\n    </g>\r\n    <g id=\"xtick_2\">\r\n     <g id=\"line2d_2\">\r\n      <g>\r\n       <use style=\"stroke:#000000;stroke-width:0.8;\" x=\"125.68267\" xlink:href=\"#m9f6aa6b3c4\" y=\"224.64\"/>\r\n      </g>\r\n     </g>\r\n     <g id=\"text_2\">\r\n      <!-- 10 -->\r\n      <g transform=\"translate(119.32017 239.238438)scale(0.1 -0.1)\">\r\n       <defs>\r\n        <path d=\"M 794 531 \r\nL 1825 531 \r\nL 1825 4091 \r\nL 703 3866 \r\nL 703 4441 \r\nL 1819 4666 \r\nL 2450 4666 \r\nL 2450 531 \r\nL 3481 531 \r\nL 3481 0 \r\nL 794 0 \r\nL 794 531 \r\nz\r\n\" id=\"DejaVuSans-31\" transform=\"scale(0.015625)\"/>\r\n       </defs>\r\n       <use xlink:href=\"#DejaVuSans-31\"/>\r\n       <use x=\"63.623047\" xlink:href=\"#DejaVuSans-30\"/>\r\n      </g>\r\n     </g>\r\n    </g>\r\n    <g id=\"xtick_3\">\r\n     <g id=\"line2d_3\">\r\n      <g>\r\n       <use style=\"stroke:#000000;stroke-width:0.8;\" x=\"193.319034\" xlink:href=\"#m9f6aa6b3c4\" y=\"224.64\"/>\r\n      </g>\r\n     </g>\r\n     <g id=\"text_3\">\r\n      <!-- 20 -->\r\n      <g transform=\"translate(186.956534 239.238438)scale(0.1 -0.1)\">\r\n       <defs>\r\n        <path d=\"M 1228 531 \r\nL 3431 531 \r\nL 3431 0 \r\nL 469 0 \r\nL 469 531 \r\nQ 828 903 1448 1529 \r\nQ 2069 2156 2228 2338 \r\nQ 2531 2678 2651 2914 \r\nQ 2772 3150 2772 3378 \r\nQ 2772 3750 2511 3984 \r\nQ 2250 4219 1831 4219 \r\nQ 1534 4219 1204 4116 \r\nQ 875 4013 500 3803 \r\nL 500 4441 \r\nQ 881 4594 1212 4672 \r\nQ 1544 4750 1819 4750 \r\nQ 2544 4750 2975 4387 \r\nQ 3406 4025 3406 3419 \r\nQ 3406 3131 3298 2873 \r\nQ 3191 2616 2906 2266 \r\nQ 2828 2175 2409 1742 \r\nQ 1991 1309 1228 531 \r\nz\r\n\" id=\"DejaVuSans-32\" transform=\"scale(0.015625)\"/>\r\n       </defs>\r\n       <use xlink:href=\"#DejaVuSans-32\"/>\r\n       <use x=\"63.623047\" xlink:href=\"#DejaVuSans-30\"/>\r\n      </g>\r\n     </g>\r\n    </g>\r\n    <g id=\"xtick_4\">\r\n     <g id=\"line2d_4\">\r\n      <g>\r\n       <use style=\"stroke:#000000;stroke-width:0.8;\" x=\"260.955398\" xlink:href=\"#m9f6aa6b3c4\" y=\"224.64\"/>\r\n      </g>\r\n     </g>\r\n     <g id=\"text_4\">\r\n      <!-- 30 -->\r\n      <g transform=\"translate(254.592898 239.238438)scale(0.1 -0.1)\">\r\n       <defs>\r\n        <path d=\"M 2597 2516 \r\nQ 3050 2419 3304 2112 \r\nQ 3559 1806 3559 1356 \r\nQ 3559 666 3084 287 \r\nQ 2609 -91 1734 -91 \r\nQ 1441 -91 1130 -33 \r\nQ 819 25 488 141 \r\nL 488 750 \r\nQ 750 597 1062 519 \r\nQ 1375 441 1716 441 \r\nQ 2309 441 2620 675 \r\nQ 2931 909 2931 1356 \r\nQ 2931 1769 2642 2001 \r\nQ 2353 2234 1838 2234 \r\nL 1294 2234 \r\nL 1294 2753 \r\nL 1863 2753 \r\nQ 2328 2753 2575 2939 \r\nQ 2822 3125 2822 3475 \r\nQ 2822 3834 2567 4026 \r\nQ 2313 4219 1838 4219 \r\nQ 1578 4219 1281 4162 \r\nQ 984 4106 628 3988 \r\nL 628 4550 \r\nQ 988 4650 1302 4700 \r\nQ 1616 4750 1894 4750 \r\nQ 2613 4750 3031 4423 \r\nQ 3450 4097 3450 3541 \r\nQ 3450 3153 3228 2886 \r\nQ 3006 2619 2597 2516 \r\nz\r\n\" id=\"DejaVuSans-33\" transform=\"scale(0.015625)\"/>\r\n       </defs>\r\n       <use xlink:href=\"#DejaVuSans-33\"/>\r\n       <use x=\"63.623047\" xlink:href=\"#DejaVuSans-30\"/>\r\n      </g>\r\n     </g>\r\n    </g>\r\n    <g id=\"xtick_5\">\r\n     <g id=\"line2d_5\">\r\n      <g>\r\n       <use style=\"stroke:#000000;stroke-width:0.8;\" x=\"328.591761\" xlink:href=\"#m9f6aa6b3c4\" y=\"224.64\"/>\r\n      </g>\r\n     </g>\r\n     <g id=\"text_5\">\r\n      <!-- 40 -->\r\n      <g transform=\"translate(322.229261 239.238438)scale(0.1 -0.1)\">\r\n       <defs>\r\n        <path d=\"M 2419 4116 \r\nL 825 1625 \r\nL 2419 1625 \r\nL 2419 4116 \r\nz\r\nM 2253 4666 \r\nL 3047 4666 \r\nL 3047 1625 \r\nL 3713 1625 \r\nL 3713 1100 \r\nL 3047 1100 \r\nL 3047 0 \r\nL 2419 0 \r\nL 2419 1100 \r\nL 313 1100 \r\nL 313 1709 \r\nL 2253 4666 \r\nz\r\n\" id=\"DejaVuSans-34\" transform=\"scale(0.015625)\"/>\r\n       </defs>\r\n       <use xlink:href=\"#DejaVuSans-34\"/>\r\n       <use x=\"63.623047\" xlink:href=\"#DejaVuSans-30\"/>\r\n      </g>\r\n     </g>\r\n    </g>\r\n   </g>\r\n   <g id=\"matplotlib.axis_2\">\r\n    <g id=\"ytick_1\">\r\n     <g id=\"line2d_6\">\r\n      <defs>\r\n       <path d=\"M 0 0 \r\nL -3.5 0 \r\n\" id=\"m8173b6caa0\" style=\"stroke:#000000;stroke-width:0.8;\"/>\r\n      </defs>\r\n      <g>\r\n       <use style=\"stroke:#000000;stroke-width:0.8;\" x=\"42.828125\" xlink:href=\"#m8173b6caa0\" y=\"220.666978\"/>\r\n      </g>\r\n     </g>\r\n     <g id=\"text_6\">\r\n      <!-- 0.275 -->\r\n      <g transform=\"translate(7.2 224.466197)scale(0.1 -0.1)\">\r\n       <defs>\r\n        <path d=\"M 684 794 \r\nL 1344 794 \r\nL 1344 0 \r\nL 684 0 \r\nL 684 794 \r\nz\r\n\" id=\"DejaVuSans-2e\" transform=\"scale(0.015625)\"/>\r\n        <path d=\"M 525 4666 \r\nL 3525 4666 \r\nL 3525 4397 \r\nL 1831 0 \r\nL 1172 0 \r\nL 2766 4134 \r\nL 525 4134 \r\nL 525 4666 \r\nz\r\n\" id=\"DejaVuSans-37\" transform=\"scale(0.015625)\"/>\r\n        <path d=\"M 691 4666 \r\nL 3169 4666 \r\nL 3169 4134 \r\nL 1269 4134 \r\nL 1269 2991 \r\nQ 1406 3038 1543 3061 \r\nQ 1681 3084 1819 3084 \r\nQ 2600 3084 3056 2656 \r\nQ 3513 2228 3513 1497 \r\nQ 3513 744 3044 326 \r\nQ 2575 -91 1722 -91 \r\nQ 1428 -91 1123 -41 \r\nQ 819 9 494 109 \r\nL 494 744 \r\nQ 775 591 1075 516 \r\nQ 1375 441 1709 441 \r\nQ 2250 441 2565 725 \r\nQ 2881 1009 2881 1497 \r\nQ 2881 1984 2565 2268 \r\nQ 2250 2553 1709 2553 \r\nQ 1456 2553 1204 2497 \r\nQ 953 2441 691 2322 \r\nL 691 4666 \r\nz\r\n\" id=\"DejaVuSans-35\" transform=\"scale(0.015625)\"/>\r\n       </defs>\r\n       <use xlink:href=\"#DejaVuSans-30\"/>\r\n       <use x=\"63.623047\" xlink:href=\"#DejaVuSans-2e\"/>\r\n       <use x=\"95.410156\" xlink:href=\"#DejaVuSans-32\"/>\r\n       <use x=\"159.033203\" xlink:href=\"#DejaVuSans-37\"/>\r\n       <use x=\"222.65625\" xlink:href=\"#DejaVuSans-35\"/>\r\n      </g>\r\n     </g>\r\n    </g>\r\n    <g id=\"ytick_2\">\r\n     <g id=\"line2d_7\">\r\n      <g>\r\n       <use style=\"stroke:#000000;stroke-width:0.8;\" x=\"42.828125\" xlink:href=\"#m8173b6caa0\" y=\"195.19312\"/>\r\n      </g>\r\n     </g>\r\n     <g id=\"text_7\">\r\n      <!-- 0.300 -->\r\n      <g transform=\"translate(7.2 198.992338)scale(0.1 -0.1)\">\r\n       <use xlink:href=\"#DejaVuSans-30\"/>\r\n       <use x=\"63.623047\" xlink:href=\"#DejaVuSans-2e\"/>\r\n       <use x=\"95.410156\" xlink:href=\"#DejaVuSans-33\"/>\r\n       <use x=\"159.033203\" xlink:href=\"#DejaVuSans-30\"/>\r\n       <use x=\"222.65625\" xlink:href=\"#DejaVuSans-30\"/>\r\n      </g>\r\n     </g>\r\n    </g>\r\n    <g id=\"ytick_3\">\r\n     <g id=\"line2d_8\">\r\n      <g>\r\n       <use style=\"stroke:#000000;stroke-width:0.8;\" x=\"42.828125\" xlink:href=\"#m8173b6caa0\" y=\"169.719261\"/>\r\n      </g>\r\n     </g>\r\n     <g id=\"text_8\">\r\n      <!-- 0.325 -->\r\n      <g transform=\"translate(7.2 173.51848)scale(0.1 -0.1)\">\r\n       <use xlink:href=\"#DejaVuSans-30\"/>\r\n       <use x=\"63.623047\" xlink:href=\"#DejaVuSans-2e\"/>\r\n       <use x=\"95.410156\" xlink:href=\"#DejaVuSans-33\"/>\r\n       <use x=\"159.033203\" xlink:href=\"#DejaVuSans-32\"/>\r\n       <use x=\"222.65625\" xlink:href=\"#DejaVuSans-35\"/>\r\n      </g>\r\n     </g>\r\n    </g>\r\n    <g id=\"ytick_4\">\r\n     <g id=\"line2d_9\">\r\n      <g>\r\n       <use style=\"stroke:#000000;stroke-width:0.8;\" x=\"42.828125\" xlink:href=\"#m8173b6caa0\" y=\"144.245402\"/>\r\n      </g>\r\n     </g>\r\n     <g id=\"text_9\">\r\n      <!-- 0.350 -->\r\n      <g transform=\"translate(7.2 148.044621)scale(0.1 -0.1)\">\r\n       <use xlink:href=\"#DejaVuSans-30\"/>\r\n       <use x=\"63.623047\" xlink:href=\"#DejaVuSans-2e\"/>\r\n       <use x=\"95.410156\" xlink:href=\"#DejaVuSans-33\"/>\r\n       <use x=\"159.033203\" xlink:href=\"#DejaVuSans-35\"/>\r\n       <use x=\"222.65625\" xlink:href=\"#DejaVuSans-30\"/>\r\n      </g>\r\n     </g>\r\n    </g>\r\n    <g id=\"ytick_5\">\r\n     <g id=\"line2d_10\">\r\n      <g>\r\n       <use style=\"stroke:#000000;stroke-width:0.8;\" x=\"42.828125\" xlink:href=\"#m8173b6caa0\" y=\"118.771544\"/>\r\n      </g>\r\n     </g>\r\n     <g id=\"text_10\">\r\n      <!-- 0.375 -->\r\n      <g transform=\"translate(7.2 122.570762)scale(0.1 -0.1)\">\r\n       <use xlink:href=\"#DejaVuSans-30\"/>\r\n       <use x=\"63.623047\" xlink:href=\"#DejaVuSans-2e\"/>\r\n       <use x=\"95.410156\" xlink:href=\"#DejaVuSans-33\"/>\r\n       <use x=\"159.033203\" xlink:href=\"#DejaVuSans-37\"/>\r\n       <use x=\"222.65625\" xlink:href=\"#DejaVuSans-35\"/>\r\n      </g>\r\n     </g>\r\n    </g>\r\n    <g id=\"ytick_6\">\r\n     <g id=\"line2d_11\">\r\n      <g>\r\n       <use style=\"stroke:#000000;stroke-width:0.8;\" x=\"42.828125\" xlink:href=\"#m8173b6caa0\" y=\"93.297685\"/>\r\n      </g>\r\n     </g>\r\n     <g id=\"text_11\">\r\n      <!-- 0.400 -->\r\n      <g transform=\"translate(7.2 97.096904)scale(0.1 -0.1)\">\r\n       <use xlink:href=\"#DejaVuSans-30\"/>\r\n       <use x=\"63.623047\" xlink:href=\"#DejaVuSans-2e\"/>\r\n       <use x=\"95.410156\" xlink:href=\"#DejaVuSans-34\"/>\r\n       <use x=\"159.033203\" xlink:href=\"#DejaVuSans-30\"/>\r\n       <use x=\"222.65625\" xlink:href=\"#DejaVuSans-30\"/>\r\n      </g>\r\n     </g>\r\n    </g>\r\n    <g id=\"ytick_7\">\r\n     <g id=\"line2d_12\">\r\n      <g>\r\n       <use style=\"stroke:#000000;stroke-width:0.8;\" x=\"42.828125\" xlink:href=\"#m8173b6caa0\" y=\"67.823827\"/>\r\n      </g>\r\n     </g>\r\n     <g id=\"text_12\">\r\n      <!-- 0.425 -->\r\n      <g transform=\"translate(7.2 71.623045)scale(0.1 -0.1)\">\r\n       <use xlink:href=\"#DejaVuSans-30\"/>\r\n       <use x=\"63.623047\" xlink:href=\"#DejaVuSans-2e\"/>\r\n       <use x=\"95.410156\" xlink:href=\"#DejaVuSans-34\"/>\r\n       <use x=\"159.033203\" xlink:href=\"#DejaVuSans-32\"/>\r\n       <use x=\"222.65625\" xlink:href=\"#DejaVuSans-35\"/>\r\n      </g>\r\n     </g>\r\n    </g>\r\n    <g id=\"ytick_8\">\r\n     <g id=\"line2d_13\">\r\n      <g>\r\n       <use style=\"stroke:#000000;stroke-width:0.8;\" x=\"42.828125\" xlink:href=\"#m8173b6caa0\" y=\"42.349968\"/>\r\n      </g>\r\n     </g>\r\n     <g id=\"text_13\">\r\n      <!-- 0.450 -->\r\n      <g transform=\"translate(7.2 46.149187)scale(0.1 -0.1)\">\r\n       <use xlink:href=\"#DejaVuSans-30\"/>\r\n       <use x=\"63.623047\" xlink:href=\"#DejaVuSans-2e\"/>\r\n       <use x=\"95.410156\" xlink:href=\"#DejaVuSans-34\"/>\r\n       <use x=\"159.033203\" xlink:href=\"#DejaVuSans-35\"/>\r\n       <use x=\"222.65625\" xlink:href=\"#DejaVuSans-30\"/>\r\n      </g>\r\n     </g>\r\n    </g>\r\n    <g id=\"ytick_9\">\r\n     <g id=\"line2d_14\">\r\n      <g>\r\n       <use style=\"stroke:#000000;stroke-width:0.8;\" x=\"42.828125\" xlink:href=\"#m8173b6caa0\" y=\"16.876109\"/>\r\n      </g>\r\n     </g>\r\n     <g id=\"text_14\">\r\n      <!-- 0.475 -->\r\n      <g transform=\"translate(7.2 20.675328)scale(0.1 -0.1)\">\r\n       <use xlink:href=\"#DejaVuSans-30\"/>\r\n       <use x=\"63.623047\" xlink:href=\"#DejaVuSans-2e\"/>\r\n       <use x=\"95.410156\" xlink:href=\"#DejaVuSans-34\"/>\r\n       <use x=\"159.033203\" xlink:href=\"#DejaVuSans-37\"/>\r\n       <use x=\"222.65625\" xlink:href=\"#DejaVuSans-35\"/>\r\n      </g>\r\n     </g>\r\n    </g>\r\n   </g>\r\n   <g id=\"line2d_15\">\r\n    <path clip-path=\"url(#pbf434e677e)\" d=\"M 58.046307 17.083636 \r\nL 64.809943 39.352884 \r\nL 71.57358 58.6512 \r\nL 78.337216 75.534594 \r\nL 85.100852 90.370909 \r\nL 91.864489 103.794613 \r\nL 98.628125 115.13082 \r\nL 105.391761 125.335987 \r\nL 112.155398 134.587413 \r\nL 118.919034 142.647342 \r\nL 125.68267 149.628198 \r\nL 132.446307 155.654634 \r\nL 139.209943 160.782352 \r\nL 145.97358 165.389724 \r\nL 152.737216 169.599364 \r\nL 159.500852 173.206802 \r\nL 166.264489 176.485797 \r\nL 173.028125 179.408498 \r\nL 179.791761 181.966752 \r\nL 186.555398 184.312046 \r\nL 193.319034 186.278288 \r\nL 200.08267 188.133464 \r\nL 206.846307 189.960449 \r\nL 213.609943 191.507222 \r\nL 220.37358 193.299902 \r\nL 227.137216 194.966912 \r\nL 233.900852 196.472247 \r\nL 240.664489 197.9015 \r\nL 247.428125 199.297807 \r\nL 254.191761 200.255285 \r\nL 260.955398 201.446103 \r\nL 267.719034 202.630807 \r\nL 274.48267 203.706823 \r\nL 281.246307 204.671772 \r\nL 288.009943 205.48252 \r\nL 294.77358 206.309232 \r\nL 301.537216 207.262973 \r\nL 308.300852 208.066589 \r\nL 315.064489 209.001989 \r\nL 321.828125 209.856212 \r\nL 328.591761 210.75459 \r\nL 335.355398 211.551413 \r\nL 342.119034 212.250415 \r\nL 348.88267 213.026179 \r\nL 355.646307 213.894668 \r\nL 362.409943 214.756364 \r\n\" style=\"fill:none;stroke:#1f77b4;stroke-linecap:square;stroke-width:1.5;\"/>\r\n   </g>\r\n   <g id=\"patch_3\">\r\n    <path d=\"M 42.828125 224.64 \r\nL 42.828125 7.2 \r\n\" style=\"fill:none;stroke:#000000;stroke-linecap:square;stroke-linejoin:miter;stroke-width:0.8;\"/>\r\n   </g>\r\n   <g id=\"patch_4\">\r\n    <path d=\"M 377.628125 224.64 \r\nL 377.628125 7.2 \r\n\" style=\"fill:none;stroke:#000000;stroke-linecap:square;stroke-linejoin:miter;stroke-width:0.8;\"/>\r\n   </g>\r\n   <g id=\"patch_5\">\r\n    <path d=\"M 42.828125 224.64 \r\nL 377.628125 224.64 \r\n\" style=\"fill:none;stroke:#000000;stroke-linecap:square;stroke-linejoin:miter;stroke-width:0.8;\"/>\r\n   </g>\r\n   <g id=\"patch_6\">\r\n    <path d=\"M 42.828125 7.2 \r\nL 377.628125 7.2 \r\n\" style=\"fill:none;stroke:#000000;stroke-linecap:square;stroke-linejoin:miter;stroke-width:0.8;\"/>\r\n   </g>\r\n  </g>\r\n </g>\r\n <defs>\r\n  <clipPath id=\"pbf434e677e\">\r\n   <rect height=\"217.44\" width=\"334.8\" x=\"42.828125\" y=\"7.2\"/>\r\n  </clipPath>\r\n </defs>\r\n</svg>\r\n",
      "image/png": "[encoded data removed]"
     },
     "metadata": {
      "needs_background": "light"
     }
    }
   ],
   "source": [
    "result['train-rmse-mean'].plot()"
   ]
  },
  {
   "cell_type": "code",
   "execution_count": 32,
   "metadata": {},
   "outputs": [],
   "source": [
    "gridsearch_params = [ \n",
    "    (max_depth, min_child_weight,learning_rate)\n",
    "    for max_depth in range(3,12)\n",
    "    for min_child_weight in range(5,10)\n",
    "    for learning_rate in np.arange(.1,1,.05)\n",
    "]"
   ]
  },
  {
   "cell_type": "code",
   "execution_count": 33,
   "metadata": {},
   "outputs": [
    {
     "output_type": "stream",
     "name": "stdout",
     "text": [
      "Best params: 5,8,0.20000000000000004 with rmse: 0.3437346666666667\n"
     ]
    }
   ],
   "source": [
    "# initial parameter for variable\n",
    "min_rmse = float('inf')\n",
    "best_params = None\n",
    "\n",
    "for max_depth,min_child_weight,lr in gridsearch_params:\n",
    "    params['max_depth'] = max_depth\n",
    "    params['min_child_weight'] = min_child_weight\n",
    "    params['learning_rate'] = lr\n",
    "    result = xgb.cv(dtrain= data_matrix,\n",
    "                    params= params,\n",
    "                    nfold = 3,\n",
    "                    num_boost_round=100,\n",
    "                    early_stopping_rounds=10,\n",
    "                    metrics='rmse', # rmse or mse or mae\n",
    "                    seed = 0 )\n",
    "    mean_rmse = result['test-rmse-mean'].min()\n",
    "    boost_rounds = result['test-rmse-mean'].argmin()\n",
    "    if mean_rmse < min_rmse:\n",
    "        min_rmse = mean_rmse\n",
    "        best_params = (max_depth,min_child_weight,lr)\n",
    "\n",
    "        \n",
    "print(f'Best params: {best_params[0]},{best_params[1]},{best_params[2]} with rmse: {min_rmse}')"
   ]
  },
  {
   "cell_type": "code",
   "execution_count": 34,
   "metadata": {},
   "outputs": [
    {
     "output_type": "execute_result",
     "data": {
      "text/plain": [
       "{'learning_rate': 0.2, 'max_depth': 5, 'alpha': 10, 'min_child_weight': 9}"
      ]
     },
     "metadata": {},
     "execution_count": 34
    }
   ],
   "source": [
    "params['learning_rate'] = .2\n",
    "params['max_depth'] = 5\n",
    "params['alpha'] = 10\n",
    "params['min_child_weight'] = 9\n",
    "params"
   ]
  },
  {
   "cell_type": "code",
   "execution_count": 37,
   "metadata": {},
   "outputs": [],
   "source": [
    "tx,testx,ty,testy = train_test_split(X,y,random_state=0)\n",
    "dtrain = xgb.DMatrix(data=tx, label=ty)\n",
    "dtest = xgb.DMatrix(data=testx, label=testy)"
   ]
  },
  {
   "cell_type": "code",
   "execution_count": 38,
   "metadata": {},
   "outputs": [
    {
     "output_type": "stream",
     "name": "stdout",
     "text": [
      "[0]\tTest-rmse:0.45692\n",
      "Will train until Test-rmse hasn't improved in 10 rounds.\n",
      "[1]\tTest-rmse:0.42584\n",
      "[2]\tTest-rmse:0.40167\n",
      "[3]\tTest-rmse:0.38598\n",
      "[4]\tTest-rmse:0.37436\n",
      "[5]\tTest-rmse:0.36588\n",
      "[6]\tTest-rmse:0.36026\n",
      "[7]\tTest-rmse:0.35605\n",
      "[8]\tTest-rmse:0.35336\n",
      "[9]\tTest-rmse:0.35184\n",
      "[10]\tTest-rmse:0.34994\n",
      "[11]\tTest-rmse:0.34892\n",
      "[12]\tTest-rmse:0.34851\n",
      "[13]\tTest-rmse:0.34792\n",
      "[14]\tTest-rmse:0.34714\n",
      "[15]\tTest-rmse:0.34760\n",
      "[16]\tTest-rmse:0.34745\n",
      "[17]\tTest-rmse:0.34722\n",
      "[18]\tTest-rmse:0.34679\n",
      "[19]\tTest-rmse:0.34716\n",
      "[20]\tTest-rmse:0.34708\n",
      "[21]\tTest-rmse:0.34722\n",
      "[22]\tTest-rmse:0.34684\n",
      "[23]\tTest-rmse:0.34619\n",
      "[24]\tTest-rmse:0.34594\n",
      "[25]\tTest-rmse:0.34572\n",
      "[26]\tTest-rmse:0.34572\n",
      "[27]\tTest-rmse:0.34572\n",
      "[28]\tTest-rmse:0.34572\n",
      "[29]\tTest-rmse:0.34572\n",
      "[30]\tTest-rmse:0.34572\n",
      "[31]\tTest-rmse:0.34572\n",
      "[32]\tTest-rmse:0.34572\n",
      "[33]\tTest-rmse:0.34572\n",
      "[34]\tTest-rmse:0.34572\n",
      "[35]\tTest-rmse:0.34572\n",
      "Stopping. Best iteration:\n",
      "[25]\tTest-rmse:0.34572\n",
      "\n"
     ]
    }
   ],
   "source": [
    "\n",
    "model = xgb.train(\n",
    "    params,\n",
    "    dtrain,\n",
    "    num_boost_round=100,\n",
    "    evals=[(dtest,'Test')],\n",
    "    early_stopping_rounds=10\n",
    ")"
   ]
  },
  {
   "cell_type": "code",
   "execution_count": 39,
   "metadata": {},
   "outputs": [
    {
     "output_type": "stream",
     "name": "stdout",
     "text": [
      "[0]\tTest-rmse:0.45692\n",
      "[1]\tTest-rmse:0.42584\n",
      "[2]\tTest-rmse:0.40167\n",
      "[3]\tTest-rmse:0.38598\n",
      "[4]\tTest-rmse:0.37436\n",
      "[5]\tTest-rmse:0.36588\n",
      "[6]\tTest-rmse:0.36026\n",
      "[7]\tTest-rmse:0.35605\n",
      "[8]\tTest-rmse:0.35336\n",
      "[9]\tTest-rmse:0.35184\n",
      "[10]\tTest-rmse:0.34994\n",
      "[11]\tTest-rmse:0.34892\n",
      "[12]\tTest-rmse:0.34851\n",
      "[13]\tTest-rmse:0.34792\n",
      "[14]\tTest-rmse:0.34714\n",
      "[15]\tTest-rmse:0.34760\n",
      "[16]\tTest-rmse:0.34745\n",
      "[17]\tTest-rmse:0.34722\n",
      "[18]\tTest-rmse:0.34679\n",
      "[19]\tTest-rmse:0.34716\n",
      "[20]\tTest-rmse:0.34708\n",
      "[21]\tTest-rmse:0.34722\n",
      "[22]\tTest-rmse:0.34684\n",
      "[23]\tTest-rmse:0.34619\n",
      "[24]\tTest-rmse:0.34594\n",
      "[25]\tTest-rmse:0.34572\n"
     ]
    }
   ],
   "source": [
    "num_round = model.best_iteration + 1\n",
    "best_model = xgb.train(\n",
    "    params,\n",
    "    dtrain,\n",
    "    num_boost_round=num_round,\n",
    "    evals=[(dtest,'Test')]\n",
    ")"
   ]
  },
  {
   "cell_type": "code",
   "execution_count": 40,
   "metadata": {},
   "outputs": [
    {
     "output_type": "execute_result",
     "data": {
      "text/plain": [
       "0.34572443679370923"
      ]
     },
     "metadata": {},
     "execution_count": 40
    }
   ],
   "source": [
    "pred = best_model.predict(dtest)\n",
    "np.sqrt(mean_squared_error(testy,pred))"
   ]
  },
  {
   "cell_type": "code",
   "execution_count": 58,
   "metadata": {},
   "outputs": [
    {
     "output_type": "execute_result",
     "data": {
      "text/plain": [
       "0.2937989177514904"
      ]
     },
     "metadata": {},
     "execution_count": 58
    }
   ],
   "source": [
    "pred = best_model.predict(data_matrix)\n",
    "np.sqrt(mean_squared_error(y,pred))"
   ]
  },
  {
   "cell_type": "code",
   "execution_count": 43,
   "metadata": {},
   "outputs": [],
   "source": [
    "best_model.save_model('crime.model')"
   ]
  },
  {
   "source": [
    "# loading model"
   ],
   "cell_type": "markdown",
   "metadata": {}
  },
  {
   "cell_type": "code",
   "execution_count": 44,
   "metadata": {},
   "outputs": [],
   "source": [
    "loaded_model = xgb.Booster()\n",
    "loaded_model.load_model('crime.model')"
   ]
  },
  {
   "cell_type": "code",
   "execution_count": 45,
   "metadata": {},
   "outputs": [
    {
     "output_type": "execute_result",
     "data": {
      "text/plain": [
       "array([ 0.37479758,  0.7868502 ,  1.0009881 ,  0.9543872 ,  0.01351413,\n",
       "        0.9772722 ,  0.6141822 ,  1.0046365 , -0.02874017,  0.7010499 ,\n",
       "        0.19950503,  0.4652192 ,  0.14325437,  0.9986548 ,  0.345024  ,\n",
       "        1.0201548 ,  0.96037483,  0.03392988,  0.8302587 ,  1.0403874 ,\n",
       "        0.17250904,  0.97377974,  0.22946465,  0.7755753 ,  1.0170567 ,\n",
       "        0.27595603,  0.7181654 ,  0.40973482,  0.10333201,  0.01923668,\n",
       "        0.24543488,  0.9618696 ,  0.5705885 ,  0.35634294,  0.22446364,\n",
       "        0.05412793,  0.8447565 ,  0.17916483,  1.0222232 ,  0.34782586,\n",
       "        0.1091994 ,  0.24717104,  0.23604226,  0.45543736,  0.5791487 ,\n",
       "        0.7794554 ,  0.6452563 ,  0.03158659,  1.024429  ,  0.36772645,\n",
       "        0.05734751,  0.61741954,  0.7474556 ,  0.88932097,  0.36723587,\n",
       "        0.5684133 ,  0.09798092,  1.0110524 ,  0.05577174,  0.93397605,\n",
       "        0.4187256 ,  0.9531957 ,  1.022953  ,  0.90381217,  0.9924118 ,\n",
       "        0.3400514 ,  0.2900015 ,  0.76637197,  0.9730892 ,  0.84385484,\n",
       "        0.9572225 ,  1.0013461 ,  0.98563886,  1.0056549 ,  0.35155523,\n",
       "        0.02913287,  0.6585338 ,  0.37034768,  0.10740635,  0.97344375,\n",
       "        0.9756423 ,  0.43641457,  0.0789156 ,  1.0296218 ,  1.0210612 ,\n",
       "        0.8799809 ,  0.8367195 ,  0.8858048 ,  0.50955826,  1.014188  ,\n",
       "        0.45255467,  0.66368425,  0.5918123 ,  0.9874888 ,  0.97839546,\n",
       "        1.0073621 ,  0.03271261,  0.25949162,  0.14304554,  0.39632955,\n",
       "        0.96101034,  0.393861  ,  0.75780475,  0.95535874,  0.9277031 ,\n",
       "        0.16814917,  0.71283627,  0.18864241,  0.78928083,  0.3669297 ,\n",
       "        0.02582049,  0.9524503 ,  1.0024579 ,  1.0437396 ,  0.99841833,\n",
       "        0.99724424,  1.0023271 ,  0.95956016,  0.31837943,  0.9889945 ,\n",
       "        0.9796885 ,  0.14907134,  0.40804774,  0.6190316 ,  0.3792929 ,\n",
       "        0.32300872,  0.04519677,  0.91401696,  0.46677864,  0.5478592 ,\n",
       "        0.9984772 ,  0.4884792 ,  0.29660356,  0.14960486,  0.42201856,\n",
       "        0.98791295,  1.0393746 , -0.01692885,  0.21432996,  0.76527214,\n",
       "        0.03877872,  0.45615226,  0.3602012 ,  0.3457911 ,  0.10656089,\n",
       "        1.0298035 ,  0.8871054 ,  0.9984936 ,  0.8254143 ,  0.97933996,\n",
       "        0.36181867,  0.9356272 ,  0.94987845,  0.60783136,  0.13757935,\n",
       "        0.9310624 ,  0.7809119 ,  0.99918485,  0.9387002 ,  0.05638015,\n",
       "        1.0271275 ,  0.5393458 ,  1.0007327 ,  0.6789246 ,  0.7349022 ,\n",
       "        1.0185343 ,  0.79708016,  0.94688326,  1.040037  ,  0.9367614 ,\n",
       "        0.8958027 ,  0.38280785,  1.0205293 ,  0.7432108 ,  1.0045902 ,\n",
       "        0.07414091,  1.015202  ,  0.35209095,  0.2130847 ,  0.4171977 ,\n",
       "        1.0438312 ,  1.014188  ,  0.43069094, -0.03122461,  0.24292606,\n",
       "        0.99700963,  0.7614128 ,  0.9828783 ,  0.8225756 ,  0.8636764 ,\n",
       "        0.17813474,  0.5985884 ,  0.95753837,  0.5564224 ,  0.77793944,\n",
       "        1.0079224 ,  0.24524817,  0.29477215,  0.96512413,  0.04645702,\n",
       "        0.99918485,  0.8385064 ,  1.0227747 ,  1.0070467 ,  0.44957405,\n",
       "        0.9303257 ,  0.80434763,  1.0001018 ,  1.0158342 ,  1.014188  ,\n",
       "       -0.01196462,  0.5392251 ,  0.25918722,  0.8930172 ,  0.5709032 ,\n",
       "        0.97678816,  0.02499673,  0.8837292 ,  0.09678915,  0.8348863 ,\n",
       "        0.47686726,  1.0059848 ,  0.98651546,  0.8801893 ,  0.5719993 ,\n",
       "        0.87729144,  0.7877567 ,  0.17987615,  0.15186691,  0.23755488,\n",
       "        0.83936083,  0.7293794 ,  0.99196315,  0.03116259,  0.33455694,\n",
       "        0.9705368 ,  0.1332866 ,  0.66114527,  0.96995825,  0.9864886 ,\n",
       "        0.17368987,  0.6951104 ,  0.7455521 ,  0.17622423,  0.5526758 ,\n",
       "        0.08932635,  0.15626493,  1.0160916 ,  0.96092296,  0.8275231 ,\n",
       "        0.5676296 ,  1.0034268 ,  0.722227  ,  0.71181303,  0.9779057 ,\n",
       "        0.9206264 ,  0.06939679,  1.0177822 ,  0.30242   ,  0.8872378 ,\n",
       "        0.48036987,  0.8351879 ,  0.92614335,  0.43391147,  0.70596343,\n",
       "        0.9971206 ,  0.92847884,  0.27532482,  0.03996974,  1.0109773 ,\n",
       "        0.31350026,  0.51374435,  0.70254815,  0.21370754,  0.06776187,\n",
       "        0.33319455,  0.14289686,  0.28515673,  0.00391981,  0.597201  ,\n",
       "        0.75649834,  0.96222687,  1.0129088 ,  0.6207319 ,  0.28183964,\n",
       "        0.47378978,  0.7492589 ,  0.5876012 ,  0.61764824,  0.9911068 ,\n",
       "        0.69680965,  0.9910195 ,  0.5842694 ,  0.7964393 ,  0.3744141 ,\n",
       "        0.20785153,  0.4026072 ,  0.46810228,  0.55217856,  0.6283786 ,\n",
       "        1.0218995 ,  0.45492914,  0.14638522,  0.02837133,  0.93000275,\n",
       "        0.09049138,  1.0116937 ,  1.0011827 ,  0.9296303 ,  0.7369038 ,\n",
       "        0.9025729 ,  0.11280149,  0.1077981 ,  0.00111777,  0.9915335 ,\n",
       "        0.9181918 ,  1.0055358 ,  1.0243949 ,  0.6210196 ,  1.0137244 ,\n",
       "        1.007289  ,  0.03102276,  0.99700963,  0.24202952,  0.03934339,\n",
       "        0.6616024 ,  1.0035167 ,  1.0352743 ,  0.8433726 ,  0.7265308 ,\n",
       "        0.7265669 ,  0.88993716,  0.99665856,  0.46587765,  0.86388165,\n",
       "        0.2705962 ,  0.9496486 ,  0.16902435,  1.0023861 ,  1.0100862 ,\n",
       "        0.40784556,  0.12075895,  0.8337054 ,  0.07635155,  0.17022228,\n",
       "        0.13184229,  0.9785023 ,  1.0035902 ,  0.5912353 ,  0.8920258 ,\n",
       "        0.42822224,  0.99197054,  0.7302103 ,  0.1830138 ,  0.3720733 ,\n",
       "        0.90830857,  0.862087  ,  0.35600594,  0.84994566,  0.02356958,\n",
       "        0.7335843 ,  1.0187082 ,  0.86645967,  0.30155978,  0.98906076,\n",
       "        0.09471253,  0.87960094,  1.0284231 ,  0.37048897,  1.0146265 ,\n",
       "        0.09801233,  0.8321013 ,  0.9595629 ,  0.27131295,  0.3553498 ,\n",
       "        0.6753267 ,  0.94834495,  0.01873881,  0.5251787 ,  0.68867624,\n",
       "        0.5005718 ,  0.2770855 ,  1.0075097 ,  0.8230064 ,  0.85788774,\n",
       "        0.701246  ,  0.9749583 ,  1.0095749 ,  0.9894017 ,  0.06762844,\n",
       "        0.30741563,  0.04684848,  0.6139955 ,  1.0358541 ,  0.9729196 ,\n",
       "        0.58112425,  0.57235533,  1.024938  ,  0.9879594 ,  1.0034095 ,\n",
       "        0.95635056,  0.39904848,  1.0034095 ,  0.32314625,  0.6407422 ,\n",
       "        0.8754386 ,  0.10074425,  1.0393596 ,  0.9650936 ,  0.10040113,\n",
       "        0.612181  ,  0.79271865,  0.96484506,  0.9827423 ,  0.08917996,\n",
       "        0.44986618, -0.02350903,  0.9587908 ,  1.0212971 ,  0.2138874 ,\n",
       "        1.0227747 ,  1.0079582 ,  1.015202  ,  0.06915689,  0.73863804,\n",
       "        0.64819777,  0.319686  ,  0.36827368,  1.0059273 ,  1.0039805 ,\n",
       "        0.3747022 ,  0.70725054,  0.9799882 ,  0.8946282 ,  0.04887697,\n",
       "        0.2125403 ,  0.59754336,  0.57963157,  0.00515917,  0.8295944 ,\n",
       "        0.5315745 ,  0.6906476 ,  1.0433118 ,  0.20497984,  0.5914434 ,\n",
       "        0.04921195,  0.38059014,  0.97819996,  0.78317463,  0.8490123 ,\n",
       "        0.2377643 ,  0.1813403 ,  0.5633777 ,  0.83698267,  1.0310173 ,\n",
       "        0.32814348,  0.39752826,  1.0211581 ,  0.34170997,  0.99189126,\n",
       "        0.96334803,  0.26840222,  1.0229921 ,  0.31867978,  1.0288754 ,\n",
       "        0.25923684,  0.8530801 ,  0.24882671,  0.36987394,  0.7426337 ,\n",
       "        0.89970875,  0.64511526,  0.99837124,  0.9596642 ,  0.8009636 ,\n",
       "        0.22394952,  0.14692366,  0.00171107,  0.38215664,  0.514041  ,\n",
       "        0.6880087 ,  0.3528375 ,  0.6028861 ,  0.9005883 ,  0.09828439,\n",
       "        0.3106886 ,  0.11603737,  0.98117185,  0.18269706,  0.6843778 ,\n",
       "        0.8718958 ,  0.8493147 ,  0.14516869,  0.01467511,  1.0205293 ,\n",
       "        0.44889557,  0.95702124,  0.19285497,  0.04489025], dtype=float32)"
      ]
     },
     "metadata": {},
     "execution_count": 45
    }
   ],
   "source": [
    "loaded_model.predict(dtest)"
   ]
  },
  {
   "cell_type": "code",
   "execution_count": 102,
   "metadata": {},
   "outputs": [
    {
     "output_type": "stream",
     "name": "stdout",
     "text": [
      "Accuracy: 82.37%\n"
     ]
    }
   ],
   "source": [
    "seed = 7\n",
    "test_size = 0.33\n",
    "X_train, X_test, y_train, y_test = train_test_split(X, y, test_size=test_size, random_state=seed)\n",
    "# fit model no training data\n",
    "model = XGBClassifier()\n",
    "model.fit(X_train, y_train)\n",
    "# make predictions for test data\n",
    "y_pred = model.predict(X_test)\n",
    "predictions = [round(value) for value in y_pred]\n",
    "# evaluate predictions\n",
    "accuracy = accuracy_score(y_test, predictions)\n",
    "print(\"Accuracy: %.2f%%\" % (accuracy * 100.0))"
   ]
  },
  {
   "cell_type": "code",
   "execution_count": 103,
   "metadata": {},
   "outputs": [],
   "source": [
    "model.save_model('models/crime.model')"
   ]
  },
  {
   "cell_type": "code",
   "execution_count": 104,
   "metadata": {},
   "outputs": [
    {
     "output_type": "execute_result",
     "data": {
      "text/plain": [
       "Index(['population', 'householdsize', 'racepctblack', 'racePctWhite',\n",
       "       'racePctAsian', 'racePctHisp', 'agePct12t21', 'agePct12t29',\n",
       "       'agePct16t24', 'agePct65up', 'numbUrban', 'pctUrban', 'medIncome',\n",
       "       'pctWWage', 'pctWFarmSelf', 'pctWInvInc', 'pctWSocSec', 'pctWPubAsst',\n",
       "       'pctWRetire', 'medFamInc', 'perCapInc', 'whitePerCap', 'blackPerCap',\n",
       "       'indianPerCap', 'AsianPerCap', 'OtherPerCap', 'HispPerCap',\n",
       "       'NumUnderPov', 'PctPopUnderPov', 'PctLess9thGrade', 'PctNotHSGrad',\n",
       "       'PctBSorMore', 'PctUnemployed', 'PctEmploy', 'PctEmplManu',\n",
       "       'PctEmplProfServ', 'PctOccupManu', 'PctOccupMgmtProf', 'MalePctDivorce',\n",
       "       'MalePctNevMarr', 'FemalePctDiv', 'TotalPctDiv', 'PersPerFam',\n",
       "       'PctFam2Par', 'PctKids2Par', 'PctYoungKids2Par', 'PctTeen2Par',\n",
       "       'PctWorkMomYoungKids', 'PctWorkMom', 'NumIlleg', 'PctIlleg', 'NumImmig',\n",
       "       'PctImmigRecent', 'PctImmigRec5', 'PctImmigRec8', 'PctImmigRec10',\n",
       "       'PctRecentImmig', 'PctRecImmig5', 'PctRecImmig8', 'PctRecImmig10',\n",
       "       'PctSpeakEnglOnly', 'PctNotSpeakEnglWell', 'PctLargHouseFam',\n",
       "       'PctLargHouseOccup', 'PersPerOccupHous', 'PersPerOwnOccHous',\n",
       "       'PersPerRentOccHous', 'PctPersOwnOccup', 'PctPersDenseHous',\n",
       "       'PctHousLess3BR', 'MedNumBR', 'HousVacant', 'PctHousOccup',\n",
       "       'PctHousOwnOcc', 'PctVacantBoarded', 'PctVacMore6Mos', 'MedYrHousBuilt',\n",
       "       'PctHousNoPhone', 'PctWOFullPlumb', 'OwnOccLowQuart', 'OwnOccMedVal',\n",
       "       'OwnOccHiQuart', 'RentLowQ', 'RentMedian', 'RentHighQ', 'MedRent',\n",
       "       'MedRentPctHousInc', 'MedOwnCostPctInc', 'MedOwnCostPctIncNoMtg',\n",
       "       'NumInShelters', 'NumStreet', 'PctForeignBorn', 'PctBornSameState',\n",
       "       'PctSameHouse85', 'PctSameCity85', 'PctSameState85', 'LandArea',\n",
       "       'PopDens', 'PctUsePubTrans', 'LemasPctOfficDrugUn'],\n",
       "      dtype='object')"
      ]
     },
     "metadata": {},
     "execution_count": 104
    }
   ],
   "source": [
    "X.columns"
   ]
  },
  {
   "cell_type": "code",
   "execution_count": 109,
   "metadata": {},
   "outputs": [],
   "source": [
    "loaded_model = xgb.XGBClassifier()\n",
    "loaded_model.load_model('models/crime.model')"
   ]
  },
  {
   "cell_type": "code",
   "execution_count": 111,
   "metadata": {},
   "outputs": [
    {
     "output_type": "execute_result",
     "data": {
      "text/plain": [
       "array([0, 1, 1, 1, 1, 1, 1, 0, 0, 0, 1, 1, 1, 1, 1, 1, 1, 1, 1, 1, 1, 1,\n",
       "       0, 0, 0, 1, 1, 0, 1, 1, 1, 1, 1, 0, 0, 1, 1, 0, 0, 0, 0, 0, 0, 1,\n",
       "       0, 1, 1, 0, 0, 0, 1, 1, 1, 1, 1, 1, 1, 1, 0, 1, 0, 1, 1, 1, 1, 1,\n",
       "       0, 1, 0, 1, 0, 1, 0, 1, 1, 1, 0, 0, 0, 1, 1, 1, 1, 1, 1, 0, 1, 1,\n",
       "       1, 1, 1, 0, 0, 1, 1, 0, 1, 1, 0, 1, 0, 1, 0, 1, 1, 0, 1, 1, 0, 0,\n",
       "       1, 1, 1, 1, 0, 1, 1, 1, 1, 1, 1, 1, 1, 1, 0, 0, 0, 1, 1, 1, 1, 1,\n",
       "       1, 1, 1, 1, 1, 0, 1, 1, 0, 0, 0, 0, 0, 1, 1, 1, 1, 1, 1, 1, 0, 0,\n",
       "       1, 0, 0, 1, 1, 0, 0, 1, 1, 0, 1, 1, 1, 1, 1, 1, 0, 1, 0, 1, 1, 1,\n",
       "       1, 0, 0, 0, 0, 0, 1, 1, 0, 1, 1, 1, 1, 1, 1, 1, 1, 0, 0, 1, 0, 0,\n",
       "       1, 1, 0, 0, 0, 1, 1, 0, 1, 0, 0, 1, 1, 1, 1, 0, 0, 1, 1, 1, 0, 1,\n",
       "       0, 1, 1, 1, 1, 1, 0, 1, 1, 1, 0, 1, 1, 1, 1, 1, 1, 0, 1, 1, 1, 1,\n",
       "       1, 0, 0, 1, 0, 0, 1, 1, 0, 1, 1, 0, 1, 1, 0, 1, 1, 1, 1, 1, 1, 0,\n",
       "       1, 0, 1, 0, 1, 0, 0, 1, 1, 1, 0, 1, 1, 1, 0, 1, 1, 1, 1, 1, 1, 1,\n",
       "       0, 1, 0, 0, 0, 1, 0, 1, 1, 0, 0, 1, 0, 0, 1, 1, 0, 0, 1, 0, 0, 1,\n",
       "       0, 0, 1, 0, 1, 1, 1, 0, 0, 1, 1, 1, 0, 0, 1, 1, 1, 1, 1, 1, 1, 0,\n",
       "       1, 0, 1, 1, 1, 0, 1, 1, 0, 1, 1, 1, 1, 1, 0, 0, 1, 0, 1, 1, 1, 1,\n",
       "       1, 1, 1, 1, 1, 1, 1, 1, 1, 0, 1, 1, 1, 1, 0, 0, 1, 1, 1, 0, 1, 0,\n",
       "       0, 0, 0, 1, 0, 0, 1, 0, 0, 1, 1, 1, 0, 1, 0, 1, 0, 1, 1, 0, 1, 0,\n",
       "       0, 1, 0, 0, 0, 1, 0, 0, 0, 1, 1, 0, 0, 1, 1, 1, 1, 0, 1, 1, 0, 1,\n",
       "       0, 1, 0, 0, 1, 1, 1, 0, 1, 1, 1, 0, 0, 0, 1, 1, 1, 1, 1, 1, 1, 0,\n",
       "       0, 1, 1, 1, 1, 1, 0, 1, 1, 1, 1, 1, 1, 0, 1, 1, 1, 1, 0, 0, 0, 1,\n",
       "       0, 1, 1, 1, 1, 1, 0, 1, 0, 0, 1, 1, 0, 0, 1, 0, 0, 0, 1, 1, 0, 0,\n",
       "       0, 1, 1, 1, 0, 1, 1, 1, 1, 1, 1, 1, 0, 0, 1, 0, 1, 0, 0, 1, 1, 0,\n",
       "       0, 0, 1, 0, 1, 1, 0, 1, 0, 0, 0, 1, 1, 1, 1, 1, 0, 1, 1, 1, 1, 1,\n",
       "       1, 1, 1, 0, 1, 0, 1, 1, 1, 1, 1, 1, 1, 0, 1, 1, 1, 1, 1, 1, 0, 0,\n",
       "       1, 1, 0, 0, 0, 0, 0, 0, 1, 1, 0, 1, 1, 1, 0, 1, 1, 0, 0, 0, 1, 0,\n",
       "       1, 1, 1, 1, 1, 1, 0, 0, 0, 0, 1, 0, 1, 0, 0, 1, 1, 1, 1, 1, 0, 1,\n",
       "       1, 1, 0, 0, 1, 1, 1, 1, 1, 1, 0, 1, 0, 0, 1, 1, 0, 1, 1, 1, 1, 1,\n",
       "       0, 0, 1, 0, 0, 1, 1, 0, 0, 0, 1, 1, 0, 0, 0, 1, 1, 0, 1, 1, 1, 1,\n",
       "       1, 0, 0, 1, 1, 0, 1, 1, 1, 1, 1, 1, 1, 1, 0, 1, 1, 1, 1, 1])"
      ]
     },
     "metadata": {},
     "execution_count": 111
    }
   ],
   "source": [
    "loaded_model.predict(X_test)"
   ]
  },
  {
   "cell_type": "code",
   "execution_count": null,
   "metadata": {},
   "outputs": [],
   "source": []
  }
 ]
}